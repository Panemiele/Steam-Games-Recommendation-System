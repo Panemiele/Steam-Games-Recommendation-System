{
 "metadata": {
  "kernelspec": {
   "language": "python",
   "display_name": "Python 3",
   "name": "python3"
  },
  "language_info": {
   "pygments_lexer": "ipython3",
   "nbconvert_exporter": "python",
   "version": "3.6.4",
   "file_extension": ".py",
   "codemirror_mode": {
    "name": "ipython",
    "version": 3
   },
   "name": "python",
   "mimetype": "text/x-python"
  }
 },
 "nbformat_minor": 4,
 "nbformat": 4,
 "cells": [
  {
   "cell_type": "markdown",
   "source": [
    "# Libraries import"
   ],
   "metadata": {
    "collapsed": false
   }
  },
  {
   "cell_type": "code",
   "execution_count": null,
   "outputs": [],
   "source": [
    "import numpy as np\n",
    "import pandas as pd\n",
    "from matplotlib import pyplot as plt\n",
    "import nltk"
   ],
   "metadata": {
    "collapsed": false
   }
  },
  {
   "cell_type": "markdown",
   "source": [
    "<br><br><br><br>\n",
    "# Loading the dataset"
   ],
   "metadata": {}
  },
  {
   "cell_type": "code",
   "source": [
    "revs_og = pd.read_csv('kaggle/dataset.csv')\n",
    "revs_og.head()"
   ],
   "metadata": {
    "execution": {
     "iopub.status.busy": "2023-02-19T09:00:40.257022Z",
     "iopub.execute_input": "2023-02-19T09:00:40.258088Z",
     "iopub.status.idle": "2023-02-19T09:01:37.551417Z",
     "shell.execute_reply.started": "2023-02-19T09:00:40.258044Z",
     "shell.execute_reply": "2023-02-19T09:01:37.550239Z"
    },
    "trusted": true
   },
   "execution_count": null,
   "outputs": []
  },
  {
   "cell_type": "code",
   "source": [
    "revs_og.shape"
   ],
   "metadata": {
    "execution": {
     "iopub.status.busy": "2023-02-19T09:01:37.55336Z",
     "iopub.execute_input": "2023-02-19T09:01:37.553786Z",
     "iopub.status.idle": "2023-02-19T09:01:37.562144Z",
     "shell.execute_reply.started": "2023-02-19T09:01:37.553753Z",
     "shell.execute_reply": "2023-02-19T09:01:37.560917Z"
    },
    "trusted": true
   },
   "execution_count": null,
   "outputs": []
  },
  {
   "cell_type": "code",
   "source": [
    "revs_og.info()"
   ],
   "metadata": {
    "execution": {
     "iopub.status.busy": "2023-02-19T09:01:37.563863Z",
     "iopub.execute_input": "2023-02-19T09:01:37.564192Z",
     "iopub.status.idle": "2023-02-19T09:01:37.592242Z",
     "shell.execute_reply.started": "2023-02-19T09:01:37.564163Z",
     "shell.execute_reply": "2023-02-19T09:01:37.590901Z"
    },
    "trusted": true
   },
   "execution_count": null,
   "outputs": []
  },
  {
   "cell_type": "markdown",
   "source": [
    "<br><br><br><br>\n",
    "# 1 - Data Cleaning"
   ],
   "metadata": {}
  },
  {
   "cell_type": "markdown",
   "source": [
    "## 1.1 - Null Value checking and removing\n",
    "This section is dedicated to the removal of rows with null app name"
   ],
   "metadata": {}
  },
  {
   "cell_type": "code",
   "source": [
    "revs_og.isnull().sum()"
   ],
   "metadata": {
    "execution": {
     "iopub.status.busy": "2023-02-19T09:01:37.593999Z",
     "iopub.execute_input": "2023-02-19T09:01:37.594352Z",
     "iopub.status.idle": "2023-02-19T09:01:38.539649Z",
     "shell.execute_reply.started": "2023-02-19T09:01:37.59432Z",
     "shell.execute_reply": "2023-02-19T09:01:38.538294Z"
    },
    "trusted": true
   },
   "execution_count": null,
   "outputs": []
  },
  {
   "cell_type": "code",
   "source": [
    "revs = revs_og[['app_id', 'app_name', 'review_score','review_text']]"
   ],
   "metadata": {
    "execution": {
     "iopub.status.busy": "2023-02-19T09:01:38.543472Z",
     "iopub.execute_input": "2023-02-19T09:01:38.543888Z",
     "iopub.status.idle": "2023-02-19T09:01:38.706517Z",
     "shell.execute_reply.started": "2023-02-19T09:01:38.543854Z",
     "shell.execute_reply": "2023-02-19T09:01:38.705305Z"
    },
    "trusted": true
   },
   "execution_count": null,
   "outputs": []
  },
  {
   "cell_type": "code",
   "source": [
    "revs.dropna(inplace = True)"
   ],
   "metadata": {
    "execution": {
     "iopub.status.busy": "2023-02-19T09:01:39.342519Z",
     "iopub.execute_input": "2023-02-19T09:01:39.342938Z",
     "iopub.status.idle": "2023-02-19T09:01:40.458382Z",
     "shell.execute_reply.started": "2023-02-19T09:01:39.342902Z",
     "shell.execute_reply": "2023-02-19T09:01:40.457234Z"
    },
    "trusted": true
   },
   "execution_count": null,
   "outputs": []
  },
  {
   "cell_type": "code",
   "source": [
    "revs.head()"
   ],
   "metadata": {
    "execution": {
     "iopub.status.busy": "2023-02-19T09:01:40.460145Z",
     "iopub.execute_input": "2023-02-19T09:01:40.460678Z",
     "iopub.status.idle": "2023-02-19T09:01:40.472599Z",
     "shell.execute_reply.started": "2023-02-19T09:01:40.460625Z",
     "shell.execute_reply": "2023-02-19T09:01:40.471056Z"
    },
    "trusted": true
   },
   "execution_count": null,
   "outputs": []
  },
  {
   "cell_type": "code",
   "source": [
    "revs['review_score'].unique()"
   ],
   "metadata": {
    "execution": {
     "iopub.status.busy": "2023-02-19T09:01:40.475352Z",
     "iopub.execute_input": "2023-02-19T09:01:40.476087Z",
     "iopub.status.idle": "2023-02-19T09:01:40.525029Z",
     "shell.execute_reply.started": "2023-02-19T09:01:40.47604Z",
     "shell.execute_reply": "2023-02-19T09:01:40.523814Z"
    },
    "trusted": true
   },
   "execution_count": null,
   "outputs": []
  },
  {
   "cell_type": "code",
   "source": [
    "revs.shape"
   ],
   "metadata": {
    "execution": {
     "iopub.status.busy": "2023-02-19T09:01:40.527027Z",
     "iopub.execute_input": "2023-02-19T09:01:40.527496Z",
     "iopub.status.idle": "2023-02-19T09:01:40.535284Z",
     "shell.execute_reply.started": "2023-02-19T09:01:40.52745Z",
     "shell.execute_reply": "2023-02-19T09:01:40.534095Z"
    },
    "trusted": true
   },
   "execution_count": null,
   "outputs": []
  },
  {
   "cell_type": "code",
   "source": [
    "new_df = revs.sample(n = 10000)"
   ],
   "metadata": {
    "execution": {
     "iopub.status.busy": "2023-02-19T09:01:40.537183Z",
     "iopub.execute_input": "2023-02-19T09:01:40.537711Z",
     "iopub.status.idle": "2023-02-19T09:01:40.858421Z",
     "shell.execute_reply.started": "2023-02-19T09:01:40.537667Z",
     "shell.execute_reply": "2023-02-19T09:01:40.857128Z"
    },
    "trusted": true
   },
   "execution_count": null,
   "outputs": []
  },
  {
   "cell_type": "code",
   "source": [
    "new_df.shape"
   ],
   "metadata": {
    "execution": {
     "iopub.status.busy": "2023-02-19T09:01:40.860169Z",
     "iopub.execute_input": "2023-02-19T09:01:40.860728Z",
     "iopub.status.idle": "2023-02-19T09:01:40.868494Z",
     "shell.execute_reply.started": "2023-02-19T09:01:40.860678Z",
     "shell.execute_reply": "2023-02-19T09:01:40.867276Z"
    },
    "trusted": true
   },
   "execution_count": null,
   "outputs": []
  },
  {
   "cell_type": "code",
   "source": [
    "new_df.isnull().sum()"
   ],
   "metadata": {
    "execution": {
     "iopub.status.busy": "2023-02-19T09:01:40.870471Z",
     "iopub.execute_input": "2023-02-19T09:01:40.870913Z",
     "iopub.status.idle": "2023-02-19T09:01:40.89369Z",
     "shell.execute_reply.started": "2023-02-19T09:01:40.870871Z",
     "shell.execute_reply": "2023-02-19T09:01:40.89253Z"
    },
    "trusted": true
   },
   "execution_count": null,
   "outputs": []
  },
  {
   "cell_type": "code",
   "source": [
    "new_df.info()"
   ],
   "metadata": {
    "execution": {
     "iopub.status.busy": "2023-02-19T09:01:40.898255Z",
     "iopub.execute_input": "2023-02-19T09:01:40.898696Z",
     "iopub.status.idle": "2023-02-19T09:01:40.92198Z",
     "shell.execute_reply.started": "2023-02-19T09:01:40.898666Z",
     "shell.execute_reply": "2023-02-19T09:01:40.920905Z"
    },
    "trusted": true
   },
   "execution_count": null,
   "outputs": []
  },
  {
   "cell_type": "code",
   "source": [
    "new_df.reset_index(drop = True, inplace = True)"
   ],
   "metadata": {
    "execution": {
     "iopub.status.busy": "2023-02-19T09:01:40.923116Z",
     "iopub.execute_input": "2023-02-19T09:01:40.923428Z",
     "iopub.status.idle": "2023-02-19T09:01:40.928407Z",
     "shell.execute_reply.started": "2023-02-19T09:01:40.923399Z",
     "shell.execute_reply": "2023-02-19T09:01:40.92762Z"
    },
    "trusted": true
   },
   "execution_count": null,
   "outputs": []
  },
  {
   "cell_type": "code",
   "source": [
    "new_df.head()"
   ],
   "metadata": {
    "execution": {
     "iopub.status.busy": "2023-02-19T09:01:40.929386Z",
     "iopub.execute_input": "2023-02-19T09:01:40.930283Z",
     "iopub.status.idle": "2023-02-19T09:01:40.945725Z",
     "shell.execute_reply.started": "2023-02-19T09:01:40.930235Z",
     "shell.execute_reply": "2023-02-19T09:01:40.944762Z"
    },
    "trusted": true
   },
   "execution_count": null,
   "outputs": []
  },
  {
   "cell_type": "markdown",
   "source": [
    "<br><br>\n",
    "## 1.2 - Duplicated values checking and removing\n",
    "This section is dedicated to the removal of duplicated rows"
   ],
   "metadata": {}
  },
  {
   "cell_type": "code",
   "source": [
    "# Print the duplicated\n",
    "# new_df[new_df.duplicated()]\n",
    "new_df.duplicated().sum()"
   ],
   "metadata": {
    "execution": {
     "iopub.status.busy": "2023-02-19T09:01:40.946996Z",
     "iopub.execute_input": "2023-02-19T09:01:40.947793Z",
     "iopub.status.idle": "2023-02-19T09:01:41.035744Z",
     "shell.execute_reply.started": "2023-02-19T09:01:40.947757Z",
     "shell.execute_reply": "2023-02-19T09:01:41.034605Z"
    },
    "trusted": true
   },
   "execution_count": null,
   "outputs": []
  },
  {
   "cell_type": "code",
   "source": [
    "new_df.drop_duplicates(inplace=True)"
   ],
   "metadata": {
    "execution": {
     "iopub.status.busy": "2023-02-19T09:01:41.037728Z",
     "iopub.execute_input": "2023-02-19T09:01:41.038189Z",
     "iopub.status.idle": "2023-02-19T09:01:41.119068Z",
     "shell.execute_reply.started": "2023-02-19T09:01:41.038145Z",
     "shell.execute_reply": "2023-02-19T09:01:41.117853Z"
    },
    "trusted": true
   },
   "execution_count": null,
   "outputs": []
  },
  {
   "cell_type": "code",
   "source": [
    "new_df.duplicated().sum()"
   ],
   "metadata": {
    "execution": {
     "iopub.status.busy": "2023-02-19T09:01:41.120397Z",
     "iopub.execute_input": "2023-02-19T09:01:41.120736Z",
     "iopub.status.idle": "2023-02-19T09:01:41.196497Z",
     "shell.execute_reply.started": "2023-02-19T09:01:41.120705Z",
     "shell.execute_reply": "2023-02-19T09:01:41.195355Z"
    },
    "trusted": true
   },
   "execution_count": null,
   "outputs": []
  },
  {
   "cell_type": "code",
   "source": [
    "new_df.shape"
   ],
   "metadata": {
    "execution": {
     "iopub.status.busy": "2023-02-19T09:01:41.197951Z",
     "iopub.execute_input": "2023-02-19T09:01:41.201264Z",
     "iopub.status.idle": "2023-02-19T09:01:41.207428Z",
     "shell.execute_reply.started": "2023-02-19T09:01:41.201225Z",
     "shell.execute_reply": "2023-02-19T09:01:41.206478Z"
    },
    "trusted": true
   },
   "execution_count": null,
   "outputs": []
  },
  {
   "cell_type": "markdown",
   "source": [
    "<br><br>\n",
    "## 1.3 - Renaming columns"
   ],
   "metadata": {
    "collapsed": false
   }
  },
  {
   "cell_type": "code",
   "source": [
    "new_df.rename(columns={'review_score':'sentiment_target','review_text':'text'},inplace=True)"
   ],
   "metadata": {
    "execution": {
     "iopub.status.busy": "2023-02-19T09:01:41.208779Z",
     "iopub.execute_input": "2023-02-19T09:01:41.20913Z",
     "iopub.status.idle": "2023-02-19T09:01:41.21774Z",
     "shell.execute_reply.started": "2023-02-19T09:01:41.209101Z",
     "shell.execute_reply": "2023-02-19T09:01:41.216956Z"
    },
    "trusted": true
   },
   "execution_count": null,
   "outputs": []
  },
  {
   "cell_type": "code",
   "source": [
    "new_df.head()"
   ],
   "metadata": {
    "execution": {
     "iopub.status.busy": "2023-02-19T09:01:41.21878Z",
     "iopub.execute_input": "2023-02-19T09:01:41.219824Z",
     "iopub.status.idle": "2023-02-19T09:01:41.233028Z",
     "shell.execute_reply.started": "2023-02-19T09:01:41.219778Z",
     "shell.execute_reply": "2023-02-19T09:01:41.232236Z"
    },
    "trusted": true
   },
   "execution_count": null,
   "outputs": []
  },
  {
   "cell_type": "markdown",
   "source": [
    "<br><br><br><br>\n",
    "# 2 - EDA"
   ],
   "metadata": {}
  },
  {
   "cell_type": "code",
   "source": [
    "new_df['sentiment_target'].value_counts()"
   ],
   "metadata": {
    "execution": {
     "iopub.status.busy": "2023-02-19T09:01:41.234276Z",
     "iopub.execute_input": "2023-02-19T09:01:41.234575Z",
     "iopub.status.idle": "2023-02-19T09:01:41.248515Z",
     "shell.execute_reply.started": "2023-02-19T09:01:41.234547Z",
     "shell.execute_reply": "2023-02-19T09:01:41.247295Z"
    },
    "trusted": true
   },
   "execution_count": null,
   "outputs": []
  },
  {
   "cell_type": "code",
   "source": [
    "plt.pie(new_df['sentiment_target'].value_counts(),labels=['positive','negative'],autopct='%0.2f')\n",
    "plt.show()"
   ],
   "metadata": {
    "execution": {
     "iopub.status.busy": "2023-02-19T09:01:41.249903Z",
     "iopub.execute_input": "2023-02-19T09:01:41.250567Z",
     "iopub.status.idle": "2023-02-19T09:01:41.413707Z",
     "shell.execute_reply.started": "2023-02-19T09:01:41.250526Z",
     "shell.execute_reply": "2023-02-19T09:01:41.412051Z"
    },
    "trusted": true
   },
   "execution_count": null,
   "outputs": []
  },
  {
   "cell_type": "markdown",
   "source": [
    "> Data is imbalanced"
   ],
   "metadata": {}
  },
  {
   "cell_type": "markdown",
   "source": [
    "<br><br>\n",
    "## 2.1 - Characters, Words and Sentences counters\n",
    "Let's continue counting the number of characters, words and sentences used in each of the selected review."
   ],
   "metadata": {
    "collapsed": false
   }
  },
  {
   "cell_type": "code",
   "execution_count": null,
   "outputs": [],
   "source": [
    "nltk.download('punkt')"
   ],
   "metadata": {
    "collapsed": false
   }
  },
  {
   "cell_type": "code",
   "source": [
    "new_df['char_num'] = new_df['text'].apply(len)\n",
    "new_df.head()"
   ],
   "metadata": {
    "execution": {
     "iopub.status.busy": "2023-02-19T09:01:41.642388Z",
     "iopub.execute_input": "2023-02-19T09:01:41.642826Z",
     "iopub.status.idle": "2023-02-19T09:01:41.673751Z",
     "shell.execute_reply.started": "2023-02-19T09:01:41.642778Z",
     "shell.execute_reply": "2023-02-19T09:01:41.672481Z"
    },
    "trusted": true
   },
   "execution_count": null,
   "outputs": []
  },
  {
   "cell_type": "code",
   "source": [
    "#word nums\n",
    "new_df['word_num'] = new_df['text'].apply(lambda x: len(nltk.word_tokenize(x)))\n",
    "new_df.head()"
   ],
   "metadata": {
    "execution": {
     "iopub.status.busy": "2023-02-19T09:01:41.689332Z",
     "iopub.execute_input": "2023-02-19T09:01:41.689859Z",
     "iopub.status.idle": "2023-02-19T09:02:07.152915Z",
     "shell.execute_reply.started": "2023-02-19T09:01:41.689824Z",
     "shell.execute_reply": "2023-02-19T09:02:07.152006Z"
    },
    "trusted": true
   },
   "execution_count": null,
   "outputs": []
  },
  {
   "cell_type": "code",
   "source": [
    "#num of sentences\n",
    "new_df['sent_num'] = new_df['text'].apply(lambda x: len(nltk.sent_tokenize(x)))\n",
    "new_df.head()"
   ],
   "metadata": {
    "execution": {
     "iopub.status.busy": "2023-02-19T09:02:07.154345Z",
     "iopub.execute_input": "2023-02-19T09:02:07.155115Z",
     "iopub.status.idle": "2023-02-19T09:02:12.447162Z",
     "shell.execute_reply.started": "2023-02-19T09:02:07.155072Z",
     "shell.execute_reply": "2023-02-19T09:02:12.446087Z"
    },
    "trusted": true
   },
   "execution_count": null,
   "outputs": []
  },
  {
   "cell_type": "code",
   "source": [
    "new_df[['char_num','word_num','sent_num']].describe()"
   ],
   "metadata": {
    "execution": {
     "iopub.status.busy": "2023-02-19T09:02:12.448583Z",
     "iopub.execute_input": "2023-02-19T09:02:12.448939Z",
     "iopub.status.idle": "2023-02-19T09:02:12.478367Z",
     "shell.execute_reply.started": "2023-02-19T09:02:12.448904Z",
     "shell.execute_reply": "2023-02-19T09:02:12.477135Z"
    },
    "trusted": true
   },
   "execution_count": 100,
   "outputs": [
    {
     "data": {
      "text/plain": "           char_num     word_num      sent_num\ncount  10000.000000  10000.00000  10000.000000\nmean     311.568600     65.31930      3.897000\nstd      618.684208    128.45761      6.311717\nmin        1.000000      1.00000      1.000000\n25%       29.000000      7.00000      1.000000\n50%      104.000000     22.00000      2.000000\n75%      318.000000     67.00000      4.000000\nmax     7856.000000   1709.00000    115.000000",
      "text/html": "<div>\n<style scoped>\n    .dataframe tbody tr th:only-of-type {\n        vertical-align: middle;\n    }\n\n    .dataframe tbody tr th {\n        vertical-align: top;\n    }\n\n    .dataframe thead th {\n        text-align: right;\n    }\n</style>\n<table border=\"1\" class=\"dataframe\">\n  <thead>\n    <tr style=\"text-align: right;\">\n      <th></th>\n      <th>char_num</th>\n      <th>word_num</th>\n      <th>sent_num</th>\n    </tr>\n  </thead>\n  <tbody>\n    <tr>\n      <th>count</th>\n      <td>10000.000000</td>\n      <td>10000.00000</td>\n      <td>10000.000000</td>\n    </tr>\n    <tr>\n      <th>mean</th>\n      <td>311.568600</td>\n      <td>65.31930</td>\n      <td>3.897000</td>\n    </tr>\n    <tr>\n      <th>std</th>\n      <td>618.684208</td>\n      <td>128.45761</td>\n      <td>6.311717</td>\n    </tr>\n    <tr>\n      <th>min</th>\n      <td>1.000000</td>\n      <td>1.00000</td>\n      <td>1.000000</td>\n    </tr>\n    <tr>\n      <th>25%</th>\n      <td>29.000000</td>\n      <td>7.00000</td>\n      <td>1.000000</td>\n    </tr>\n    <tr>\n      <th>50%</th>\n      <td>104.000000</td>\n      <td>22.00000</td>\n      <td>2.000000</td>\n    </tr>\n    <tr>\n      <th>75%</th>\n      <td>318.000000</td>\n      <td>67.00000</td>\n      <td>4.000000</td>\n    </tr>\n    <tr>\n      <th>max</th>\n      <td>7856.000000</td>\n      <td>1709.00000</td>\n      <td>115.000000</td>\n    </tr>\n  </tbody>\n</table>\n</div>"
     },
     "execution_count": 100,
     "metadata": {},
     "output_type": "execute_result"
    }
   ]
  },
  {
   "cell_type": "code",
   "source": [
    "#neg. reviews description\n",
    "new_df[new_df['sentiment_target'] == -1][['char_num','word_num','sent_num']].describe()"
   ],
   "metadata": {
    "execution": {
     "iopub.status.busy": "2023-02-19T09:02:12.479843Z",
     "iopub.execute_input": "2023-02-19T09:02:12.480299Z",
     "iopub.status.idle": "2023-02-19T09:02:12.507253Z",
     "shell.execute_reply.started": "2023-02-19T09:02:12.480255Z",
     "shell.execute_reply": "2023-02-19T09:02:12.506056Z"
    },
    "trusted": true
   },
   "execution_count": null,
   "outputs": []
  },
  {
   "cell_type": "code",
   "source": [
    "#pos. reviews description\n",
    "new_df[new_df['sentiment_target'] == 1][['char_num','word_num','sent_num']].describe()"
   ],
   "metadata": {
    "execution": {
     "iopub.status.busy": "2023-02-19T09:02:12.508504Z",
     "iopub.execute_input": "2023-02-19T09:02:12.509361Z",
     "iopub.status.idle": "2023-02-19T09:02:12.537532Z",
     "shell.execute_reply.started": "2023-02-19T09:02:12.509325Z",
     "shell.execute_reply": "2023-02-19T09:02:12.536552Z"
    },
    "trusted": true
   },
   "execution_count": null,
   "outputs": []
  },
  {
   "cell_type": "markdown",
   "source": [
    "## 2.2 - Sentiment plotting"
   ],
   "metadata": {
    "collapsed": false
   }
  },
  {
   "cell_type": "code",
   "source": [
    "import seaborn as sns"
   ],
   "metadata": {
    "execution": {
     "iopub.status.busy": "2023-02-19T09:02:12.538749Z",
     "iopub.execute_input": "2023-02-19T09:02:12.539065Z",
     "iopub.status.idle": "2023-02-19T09:02:12.680483Z",
     "shell.execute_reply.started": "2023-02-19T09:02:12.539038Z",
     "shell.execute_reply": "2023-02-19T09:02:12.679201Z"
    },
    "trusted": true
   },
   "execution_count": null,
   "outputs": []
  },
  {
   "cell_type": "code",
   "source": [
    "sns.histplot(new_df[new_df['sentiment_target'] == 1]['char_num'])\n",
    "sns.histplot(new_df[new_df['sentiment_target'] == -1]['char_num'],color='red')\n",
    "\n",
    "plt.show()"
   ],
   "metadata": {
    "execution": {
     "iopub.status.busy": "2023-02-19T09:02:12.681978Z",
     "iopub.execute_input": "2023-02-19T09:02:12.683245Z",
     "iopub.status.idle": "2023-02-19T09:02:14.133639Z",
     "shell.execute_reply.started": "2023-02-19T09:02:12.683185Z",
     "shell.execute_reply": "2023-02-19T09:02:14.132536Z"
    },
    "trusted": true
   },
   "execution_count": null,
   "outputs": []
  },
  {
   "cell_type": "code",
   "source": [
    "sns.histplot(new_df[new_df['sentiment_target'] == 1]['word_num'])\n",
    "sns.histplot(new_df[new_df['sentiment_target'] == -1]['word_num'],color='red')\n",
    "\n",
    "plt.show()"
   ],
   "metadata": {
    "execution": {
     "iopub.status.busy": "2023-02-19T09:02:14.134883Z",
     "iopub.execute_input": "2023-02-19T09:02:14.135256Z",
     "iopub.status.idle": "2023-02-19T09:02:18.349135Z",
     "shell.execute_reply.started": "2023-02-19T09:02:14.135199Z",
     "shell.execute_reply": "2023-02-19T09:02:18.348044Z"
    },
    "trusted": true
   },
   "execution_count": null,
   "outputs": []
  },
  {
   "cell_type": "code",
   "source": [
    "sns.histplot(new_df[new_df['sentiment_target'] == 1]['sent_num'])\n",
    "sns.histplot(new_df[new_df['sentiment_target'] == -1]['sent_num'],color='red')\n",
    "\n",
    "plt.show()"
   ],
   "metadata": {
    "execution": {
     "iopub.status.busy": "2023-02-19T09:02:18.350442Z",
     "iopub.execute_input": "2023-02-19T09:02:18.350777Z",
     "iopub.status.idle": "2023-02-19T09:02:24.681666Z",
     "shell.execute_reply.started": "2023-02-19T09:02:18.350746Z",
     "shell.execute_reply": "2023-02-19T09:02:24.678389Z"
    },
    "trusted": true
   },
   "execution_count": null,
   "outputs": []
  },
  {
   "cell_type": "code",
   "source": [
    "#2D plots with the, using the sentiment_target value as the X-axis, while the rest of the DF as the Y-axis\n",
    "sns.pairplot(new_df,hue='sentiment_target')\n",
    "plt.show()"
   ],
   "metadata": {
    "execution": {
     "iopub.status.busy": "2023-02-19T09:02:24.683026Z",
     "iopub.execute_input": "2023-02-19T09:02:24.683388Z",
     "iopub.status.idle": "2023-02-19T09:02:47.591605Z",
     "shell.execute_reply.started": "2023-02-19T09:02:24.683355Z",
     "shell.execute_reply": "2023-02-19T09:02:47.590398Z"
    },
    "trusted": true
   },
   "execution_count": null,
   "outputs": []
  },
  {
   "cell_type": "code",
   "source": [
    "# TODO Doesn't work(?) -> convert a String into a Float for whathever reason\n",
    "sns.heatmap(new_df.corr(),annot=True)\n",
    "plt.show()"
   ],
   "metadata": {
    "execution": {
     "iopub.status.busy": "2023-02-19T09:02:47.593274Z",
     "iopub.execute_input": "2023-02-19T09:02:47.593702Z",
     "iopub.status.idle": "2023-02-19T09:02:47.825806Z",
     "shell.execute_reply.started": "2023-02-19T09:02:47.593663Z",
     "shell.execute_reply": "2023-02-19T09:02:47.824686Z"
    },
    "trusted": true
   },
   "execution_count": null,
   "outputs": []
  },
  {
   "cell_type": "markdown",
   "source": [
    "<br><br><br><br>\n",
    "# 3. Data Preprocessing\n",
    "This section is dedicated to the following steps:\n",
    "* Lower case transformation\n",
    "* Tokenization\n",
    "* Removing of special characters\n",
    "* Removing of stop words and punctuation\n",
    "* Stemming"
   ],
   "metadata": {}
  },
  {
   "cell_type": "code",
   "source": [
    "new_df.reset_index(drop = True, inplace = True)"
   ],
   "metadata": {
    "execution": {
     "iopub.status.busy": "2023-02-19T09:02:47.82736Z",
     "iopub.execute_input": "2023-02-19T09:02:47.827813Z",
     "iopub.status.idle": "2023-02-19T09:02:47.832938Z",
     "shell.execute_reply.started": "2023-02-19T09:02:47.827777Z",
     "shell.execute_reply": "2023-02-19T09:02:47.831791Z"
    },
    "trusted": true
   },
   "execution_count": 101,
   "outputs": []
  },
  {
   "cell_type": "code",
   "source": [
    "from nltk.corpus import stopwords\n",
    "nltk.download('stopwords')\n",
    "import string\n",
    "from nltk.stem.porter import PorterStemmer\n",
    "ps = PorterStemmer()"
   ],
   "metadata": {
    "execution": {
     "iopub.status.busy": "2023-02-19T09:02:47.834415Z",
     "iopub.execute_input": "2023-02-19T09:02:47.835473Z",
     "iopub.status.idle": "2023-02-19T09:02:47.847903Z",
     "shell.execute_reply.started": "2023-02-19T09:02:47.835438Z",
     "shell.execute_reply": "2023-02-19T09:02:47.846603Z"
    },
    "trusted": true
   },
   "execution_count": 102,
   "outputs": [
    {
     "name": "stderr",
     "output_type": "stream",
     "text": [
      "[nltk_data] Downloading package stopwords to\n",
      "[nltk_data]     C:\\Users\\Gabri\\AppData\\Roaming\\nltk_data...\n",
      "[nltk_data]   Unzipping corpora\\stopwords.zip.\n"
     ]
    }
   ]
  },
  {
   "cell_type": "code",
   "source": [
    "string.punctuation"
   ],
   "metadata": {
    "execution": {
     "iopub.status.busy": "2023-02-19T09:02:47.857021Z",
     "iopub.execute_input": "2023-02-19T09:02:47.85743Z",
     "iopub.status.idle": "2023-02-19T09:02:47.864947Z",
     "shell.execute_reply.started": "2023-02-19T09:02:47.857394Z",
     "shell.execute_reply": "2023-02-19T09:02:47.863605Z"
    },
    "trusted": true
   },
   "execution_count": 103,
   "outputs": [
    {
     "data": {
      "text/plain": "'!\"#$%&\\'()*+,-./:;<=>?@[\\\\]^_`{|}~'"
     },
     "execution_count": 103,
     "metadata": {},
     "output_type": "execute_result"
    }
   ]
  },
  {
   "cell_type": "code",
   "source": [
    "#Self-contained function for pandarallel to work\n",
    "import nltk\n",
    "nltk.download('stopwords')\n",
    "\n",
    "def convert_text(text):\n",
    "    #Importing libraries to work with pandarallel\n",
    "    import nltk\n",
    "    from nltk.corpus import stopwords\n",
    "    import string\n",
    "    from nltk.stem.porter import PorterStemmer\n",
    "\n",
    "    ps = PorterStemmer()\n",
    "\n",
    "    text = text.lower()\n",
    "    text = nltk.word_tokenize(text)\n",
    "    \n",
    "    x = []\n",
    "    y =[]\n",
    "    for i in text:\n",
    "        if i not in stopwords.words('english') and i not in string.punctuation:\n",
    "            x.append(i)\n",
    "    for i in x:\n",
    "        y.append(ps.stem(i))\n",
    "    return ' '.join(y)"
   ],
   "metadata": {
    "execution": {
     "iopub.status.busy": "2023-02-19T09:02:47.866581Z",
     "iopub.execute_input": "2023-02-19T09:02:47.867729Z",
     "iopub.status.idle": "2023-02-19T09:02:47.875026Z",
     "shell.execute_reply.started": "2023-02-19T09:02:47.867692Z",
     "shell.execute_reply": "2023-02-19T09:02:47.873859Z"
    },
    "trusted": true
   },
   "execution_count": 104,
   "outputs": [
    {
     "name": "stderr",
     "output_type": "stream",
     "text": [
      "[nltk_data] Downloading package stopwords to\n",
      "[nltk_data]     C:\\Users\\Gabri\\AppData\\Roaming\\nltk_data...\n",
      "[nltk_data]   Package stopwords is already up-to-date!\n"
     ]
    }
   ]
  },
  {
   "cell_type": "code",
   "source": [
    "new_df['text'][8]"
   ],
   "metadata": {
    "execution": {
     "iopub.status.busy": "2023-02-19T09:02:47.876611Z",
     "iopub.execute_input": "2023-02-19T09:02:47.876983Z",
     "iopub.status.idle": "2023-02-19T09:02:47.887586Z",
     "shell.execute_reply.started": "2023-02-19T09:02:47.876933Z",
     "shell.execute_reply": "2023-02-19T09:02:47.886526Z"
    },
    "trusted": true
   },
   "execution_count": 105,
   "outputs": [
    {
     "data": {
      "text/plain": "'The Plan... A range of emotions you may feel playing this. Curiosity Sadness Frustation Fear (Should definately be rated 18+ as death is so brutal) 10/10 IGN would become a fly again '"
     },
     "execution_count": 105,
     "metadata": {},
     "output_type": "execute_result"
    }
   ]
  },
  {
   "cell_type": "code",
   "source": [
    "from pandarallel import pandarallel\n",
    "pandarallel.initialize()\n",
    "new_df['converted_text']=new_df['text'].parallel_apply(convert_text)\n",
    "# new_df['converted_text']=new_df['text'].apply(convert_text)"
   ],
   "metadata": {
    "execution": {
     "iopub.status.busy": "2023-02-19T09:02:47.889292Z",
     "iopub.execute_input": "2023-02-19T09:02:47.889639Z",
     "iopub.status.idle": "2023-02-19T09:10:59.865749Z",
     "shell.execute_reply.started": "2023-02-19T09:02:47.889609Z",
     "shell.execute_reply": "2023-02-19T09:10:59.864618Z"
    },
    "trusted": true
   },
   "execution_count": 107,
   "outputs": [
    {
     "name": "stdout",
     "output_type": "stream",
     "text": [
      "INFO: Pandarallel will run on 4 workers.\n",
      "INFO: Pandarallel will use standard multiprocessing data transfer (pipe) to transfer data between the main process and workers.\n",
      "\n",
      "WARNING: You are on Windows. If you detect any issue with pandarallel, be sure you checked out the Troubleshooting page:\n",
      "https://nalepae.github.io/pandarallel/troubleshooting/\n"
     ]
    }
   ]
  },
  {
   "cell_type": "code",
   "source": [
    "new_df.head()"
   ],
   "metadata": {
    "execution": {
     "iopub.status.busy": "2023-02-19T09:10:59.867527Z",
     "iopub.execute_input": "2023-02-19T09:10:59.868291Z",
     "iopub.status.idle": "2023-02-19T09:10:59.881791Z",
     "shell.execute_reply.started": "2023-02-19T09:10:59.868241Z",
     "shell.execute_reply": "2023-02-19T09:10:59.880484Z"
    },
    "trusted": true
   },
   "execution_count": null,
   "outputs": []
  },
  {
   "cell_type": "code",
   "source": [
    "from wordcloud import WordCloud\n",
    "wc = WordCloud(width = 500,height=500,min_font_size = 10,background_color = 'white')"
   ],
   "metadata": {
    "execution": {
     "iopub.status.busy": "2023-02-19T09:10:59.883343Z",
     "iopub.execute_input": "2023-02-19T09:10:59.883739Z",
     "iopub.status.idle": "2023-02-19T09:10:59.916533Z",
     "shell.execute_reply.started": "2023-02-19T09:10:59.883695Z",
     "shell.execute_reply": "2023-02-19T09:10:59.915092Z"
    },
    "trusted": true
   },
   "execution_count": null,
   "outputs": []
  },
  {
   "cell_type": "code",
   "source": [
    "pos_wc = wc.generate(new_df[new_df['sentiment_target']==1]['converted_text'].str.cat(sep=\" \"))\n",
    "plt.imshow(pos_wc)\n",
    "plt.show()"
   ],
   "metadata": {
    "execution": {
     "iopub.status.busy": "2023-02-19T09:10:59.91824Z",
     "iopub.execute_input": "2023-02-19T09:10:59.91859Z",
     "iopub.status.idle": "2023-02-19T09:11:09.42987Z",
     "shell.execute_reply.started": "2023-02-19T09:10:59.918556Z",
     "shell.execute_reply": "2023-02-19T09:11:09.42865Z"
    },
    "trusted": true
   },
   "execution_count": null,
   "outputs": []
  },
  {
   "cell_type": "code",
   "source": [
    "neg_wc = wc.generate(new_df[new_df['sentiment_target']==-1]['converted_text'].str.cat(sep=\" \"))\n",
    "plt.imshow(neg_wc)\n",
    "plt.show()"
   ],
   "metadata": {
    "execution": {
     "iopub.status.busy": "2023-02-19T09:11:09.431293Z",
     "iopub.execute_input": "2023-02-19T09:11:09.43164Z",
     "iopub.status.idle": "2023-02-19T09:11:12.768863Z",
     "shell.execute_reply.started": "2023-02-19T09:11:09.43161Z",
     "shell.execute_reply": "2023-02-19T09:11:12.767556Z"
    },
    "trusted": true
   },
   "execution_count": null,
   "outputs": []
  },
  {
   "cell_type": "markdown",
   "source": [
    "<br><br><br><br>\n",
    "# 4. Model Building"
   ],
   "metadata": {
    "collapsed": false
   }
  },
  {
   "cell_type": "code",
   "source": [
    "from sklearn.feature_extraction.text import CountVectorizer, TfidfVectorizer\n",
    "cv = CountVectorizer(max_features = 3000)\n",
    "tfidf = TfidfVectorizer(max_features=5000)"
   ],
   "metadata": {
    "execution": {
     "iopub.status.busy": "2023-02-19T09:11:12.770266Z",
     "iopub.execute_input": "2023-02-19T09:11:12.770629Z",
     "iopub.status.idle": "2023-02-19T09:11:12.777369Z",
     "shell.execute_reply.started": "2023-02-19T09:11:12.770595Z",
     "shell.execute_reply": "2023-02-19T09:11:12.77607Z"
    },
    "trusted": true
   },
   "execution_count": null,
   "outputs": []
  },
  {
   "cell_type": "code",
   "source": [
    "X = cv.fit_transform(new_df['converted_text']).toarray()"
   ],
   "metadata": {
    "execution": {
     "iopub.status.busy": "2023-02-19T09:11:12.779062Z",
     "iopub.execute_input": "2023-02-19T09:11:12.779396Z",
     "iopub.status.idle": "2023-02-19T09:11:14.675832Z",
     "shell.execute_reply.started": "2023-02-19T09:11:12.779367Z",
     "shell.execute_reply": "2023-02-19T09:11:14.674524Z"
    },
    "trusted": true
   },
   "execution_count": null,
   "outputs": []
  },
  {
   "cell_type": "code",
   "source": [
    "X.shape"
   ],
   "metadata": {
    "execution": {
     "iopub.status.busy": "2023-02-19T09:11:14.678306Z",
     "iopub.execute_input": "2023-02-19T09:11:14.678653Z",
     "iopub.status.idle": "2023-02-19T09:11:14.685738Z",
     "shell.execute_reply.started": "2023-02-19T09:11:14.678622Z",
     "shell.execute_reply": "2023-02-19T09:11:14.684574Z"
    },
    "trusted": true
   },
   "execution_count": null,
   "outputs": []
  },
  {
   "cell_type": "code",
   "source": [
    "y = new_df['sentiment_target'].values"
   ],
   "metadata": {
    "execution": {
     "iopub.status.busy": "2023-02-19T09:11:14.687432Z",
     "iopub.execute_input": "2023-02-19T09:11:14.687873Z",
     "iopub.status.idle": "2023-02-19T09:11:14.69735Z",
     "shell.execute_reply.started": "2023-02-19T09:11:14.687829Z",
     "shell.execute_reply": "2023-02-19T09:11:14.696398Z"
    },
    "trusted": true
   },
   "execution_count": null,
   "outputs": []
  },
  {
   "cell_type": "code",
   "source": [
    "#y"
   ],
   "metadata": {
    "execution": {
     "iopub.status.busy": "2023-02-19T09:11:14.698874Z",
     "iopub.execute_input": "2023-02-19T09:11:14.699334Z",
     "iopub.status.idle": "2023-02-19T09:11:14.710889Z",
     "shell.execute_reply.started": "2023-02-19T09:11:14.69929Z",
     "shell.execute_reply": "2023-02-19T09:11:14.70966Z"
    },
    "trusted": true
   },
   "execution_count": null,
   "outputs": []
  },
  {
   "cell_type": "code",
   "source": [
    "from sklearn.model_selection import train_test_split\n",
    "X_train, X_test, y_train, y_test = train_test_split(X,y,test_size = 0.2,random_state = 34)"
   ],
   "metadata": {
    "execution": {
     "iopub.status.busy": "2023-02-19T09:11:14.712174Z",
     "iopub.execute_input": "2023-02-19T09:11:14.71253Z",
     "iopub.status.idle": "2023-02-19T09:11:15.173419Z",
     "shell.execute_reply.started": "2023-02-19T09:11:14.7125Z",
     "shell.execute_reply": "2023-02-19T09:11:15.172253Z"
    },
    "trusted": true
   },
   "execution_count": null,
   "outputs": []
  },
  {
   "cell_type": "code",
   "source": [
    "X_train.shape"
   ],
   "metadata": {
    "execution": {
     "iopub.status.busy": "2023-02-19T09:11:15.17532Z",
     "iopub.execute_input": "2023-02-19T09:11:15.175683Z",
     "iopub.status.idle": "2023-02-19T09:11:15.181999Z",
     "shell.execute_reply.started": "2023-02-19T09:11:15.17565Z",
     "shell.execute_reply": "2023-02-19T09:11:15.180954Z"
    },
    "trusted": true
   },
   "execution_count": null,
   "outputs": []
  },
  {
   "cell_type": "code",
   "source": [
    "y_train.shape"
   ],
   "metadata": {
    "execution": {
     "iopub.status.busy": "2023-02-19T09:11:15.183315Z",
     "iopub.execute_input": "2023-02-19T09:11:15.183638Z",
     "iopub.status.idle": "2023-02-19T09:11:15.194745Z",
     "shell.execute_reply.started": "2023-02-19T09:11:15.183608Z",
     "shell.execute_reply": "2023-02-19T09:11:15.193628Z"
    },
    "trusted": true
   },
   "execution_count": null,
   "outputs": []
  },
  {
   "cell_type": "code",
   "source": [
    "X_test.shape"
   ],
   "metadata": {
    "execution": {
     "iopub.status.busy": "2023-02-19T09:11:15.195849Z",
     "iopub.execute_input": "2023-02-19T09:11:15.196552Z",
     "iopub.status.idle": "2023-02-19T09:11:15.205605Z",
     "shell.execute_reply.started": "2023-02-19T09:11:15.196517Z",
     "shell.execute_reply": "2023-02-19T09:11:15.204562Z"
    },
    "trusted": true
   },
   "execution_count": null,
   "outputs": []
  },
  {
   "cell_type": "code",
   "source": [
    "y_test.shape"
   ],
   "metadata": {
    "execution": {
     "iopub.status.busy": "2023-02-19T09:11:15.206727Z",
     "iopub.execute_input": "2023-02-19T09:11:15.207155Z",
     "iopub.status.idle": "2023-02-19T09:11:15.217465Z",
     "shell.execute_reply.started": "2023-02-19T09:11:15.207114Z",
     "shell.execute_reply": "2023-02-19T09:11:15.216577Z"
    },
    "trusted": true
   },
   "execution_count": null,
   "outputs": []
  },
  {
   "cell_type": "code",
   "source": [
    "from sklearn.naive_bayes import GaussianNB, MultinomialNB, BernoulliNB\n",
    "from sklearn import tree\n",
    "from sklearn.linear_model import SGDClassifier\n",
    "from sklearn.metrics import accuracy_score, precision_score, confusion_matrix, f1_score, recall_score\n"
   ],
   "metadata": {
    "execution": {
     "iopub.status.busy": "2023-02-19T09:11:15.219031Z",
     "iopub.execute_input": "2023-02-19T09:11:15.220199Z",
     "iopub.status.idle": "2023-02-19T09:11:15.228684Z",
     "shell.execute_reply.started": "2023-02-19T09:11:15.220155Z",
     "shell.execute_reply": "2023-02-19T09:11:15.227857Z"
    },
    "trusted": true
   },
   "execution_count": null,
   "outputs": []
  },
  {
   "cell_type": "code",
   "source": [
    "# gnb = GaussianNB()\n",
    "mnb = MultinomialNB()\n",
    "bnb = BernoulliNB()\n",
    "clf_tree = tree.DecisionTreeClassifier()\n",
    "clf_sgd = SGDClassifier()"
   ],
   "metadata": {
    "execution": {
     "iopub.status.busy": "2023-02-19T09:11:15.2304Z",
     "iopub.execute_input": "2023-02-19T09:11:15.231664Z",
     "iopub.status.idle": "2023-02-19T09:11:15.237224Z",
     "shell.execute_reply.started": "2023-02-19T09:11:15.23161Z",
     "shell.execute_reply": "2023-02-19T09:11:15.236416Z"
    },
    "trusted": true
   },
   "execution_count": null,
   "outputs": []
  },
  {
   "cell_type": "code",
   "source": [
    "#Training the 5 defined models\n",
    "\n",
    "# gnb.fit(X_train,y_train)\n",
    "# print(\"Gaussian Naive Bayes fitted.\")\n",
    "mnb.fit(X_train,y_train)\n",
    "print(\"Multinomial Naive Bayes fitted.\")\n",
    "bnb.fit(X_train,y_train)\n",
    "print(\"Bernoulli Naive Bayes fitted.\")\n",
    "clf_tree.fit(X_train,y_train)\n",
    "print(\"Decisions tree fitted.\")\n",
    "clf_sgd.fit(X_train,y_train)\n",
    "print(\"Stochastic Gradient Descent fitted.\")"
   ],
   "metadata": {
    "execution": {
     "iopub.status.busy": "2023-02-19T09:11:15.23858Z",
     "iopub.execute_input": "2023-02-19T09:11:15.239038Z",
     "iopub.status.idle": "2023-02-19T09:11:17.15279Z",
     "shell.execute_reply.started": "2023-02-19T09:11:15.238996Z",
     "shell.execute_reply": "2023-02-19T09:11:17.151659Z"
    },
    "trusted": true
   },
   "execution_count": null,
   "outputs": []
  },
  {
   "cell_type": "code",
   "execution_count": null,
   "outputs": [],
   "source": [
    "stats = {}\n",
    "def add_stats(algorithm, test, pred):\n",
    "    stats[algorithm] = {\n",
    "                        \"F1 %\" : round(f1_score(test,pred)*100,2),\n",
    "                        \"Precision %\" : round(precision_score(test,pred)*100,2),\n",
    "                        \"Recall %\" : round(recall_score(test,pred)*100,2),\n",
    "                        \"Accuracy %\" : round(accuracy_score(test, pred)*100,2),\n",
    "                        # \"Confusion Matrix\" : confusion_matrix(test,pred)\n",
    "                        }"
   ],
   "metadata": {
    "collapsed": false
   }
  },
  {
   "cell_type": "code",
   "execution_count": null,
   "outputs": [],
   "source": [
    "#Predictions and adding stats to the dictionary.\n",
    "# y_pred1 = gnb.predict(X_test)\n",
    "# add_stats(\"Gaussian Native Bayes\", y_pred1, y_test)\n",
    "\n",
    "y_pred2 = mnb.predict(X_test)\n",
    "add_stats(\"Multinomial Native Bayes\", y_pred2, y_test)\n",
    "\n",
    "y_pred3 = bnb.predict(X_test)\n",
    "add_stats(\"Bernoulli Native Bayes\", y_pred3, y_test)\n",
    "\n",
    "y_pred4 = clf_tree.predict(X_test)\n",
    "add_stats(\"Decisions Tree\", y_pred4, y_test)\n",
    "\n",
    "y_pred5 = clf_sgd.predict(X_test)\n",
    "add_stats(\"Stochastic Gradient Descent\", y_pred5, y_test)\n",
    "\n",
    "#Building table\n",
    "df_stats = pd.DataFrame.from_dict(stats, orient='index')\n",
    "df_stats = df_stats.sort_values(by=\"F1 %\", ascending=False)\n",
    "fig, ax = plt.subplots(figsize=(8, 4))\n",
    "\n",
    "# Hide axes\n",
    "ax.xaxis.set_visible(False)\n",
    "ax.yaxis.set_visible(False)\n",
    "\n",
    "# Hide axes' labels\n",
    "ax.set_frame_on(False)\n",
    "ax.table(cellText=df_stats.values, colLabels=df_stats.columns, rowLabels=df_stats.index, loc='center')\n",
    "\n",
    "plt.show()"
   ],
   "metadata": {
    "collapsed": false
   }
  },
  {
   "cell_type": "code",
   "execution_count": null,
   "outputs": [],
   "source": [
    "def checker(text, sa_algorithm):\n",
    "    test = convert_text(text)\n",
    "    X = cv.transform([test])\n",
    "    return sa_algorithm.predict(X)[0]"
   ],
   "metadata": {
    "collapsed": false
   }
  },
  {
   "cell_type": "code",
   "execution_count": null,
   "outputs": [],
   "source": [
    "print(checker('game is a waste of time', mnb))\n",
    "print(checker('I really loved this game', mnb))"
   ],
   "metadata": {
    "collapsed": false
   }
  },
  {
   "cell_type": "code",
   "execution_count": null,
   "outputs": [],
   "source": [
    "#benchmark the algorithms\n",
    "reviews = [\n",
    "    [\"Imagine waiting for an hour and ten minutes and still not being able to get into a private game.\",-1],\n",
    "    [\"I have been playing this game fairly consistently for the past 8 or so years. I also lead an in-game Fleet (Guild) that has had a constant player base that has grown and shrunk over time with sometimes hundreds of people. In other words, I truly love this game and almost always have enjoyed playing it. Which makes what I'm about to say very hard.Over these years the game has steadily become one of the most greediest, dirtiest cash grabs in the current Free-to-Play MMO market. It takes literal months to grind (and I mean GRIND) for a free, premium ship. Even other free ships, like the summer/winter event ones, still require weeks of grinding - and it NEVER changes. They don't change these events, so every year it's the same activities. which becomes extremely dull extremely fast.Not to mention EVERYTHING else in the game requires a purchase. Uniforms, lockbox keys, bridge officers, playable factions, inventory slots, bank slots, ship slots, duty officers, shuttles, equipment upgrades, etc. While some fans may attack me and say that not ALL of these items are only attainable through real money purchases, it is MUCH easier to buy them than to grind for them.Another in-game currency, Dilithium, has had a very small cap that has never changed for countless years. This currency allows you to upgrade your gear, support your Fleet, buy special equipment you unlock through Reputations (which, of course, require a little bit of grinding, but not nearly as bad as the previously mentioned gripes) and other useful items. The cap is insultingly low, and once again, some fans may say 'well, you can refine a little extra from your Fleet mine!' or 'If you're a lifetime member, you can refine an extra 1,000 every few days'. Of course, lifetime subscriptions cost $200-$300, assuming they're on sale. Obviously a small price to pay for a little extra dilithium that can only be initiated through a certain mission on a certain planet.This is only scratching the surface of this game's issues. A lot of the older missions have loads of bugs and are simply outdated (think Nimbus), some of the newer ones have some too, the engine has been out of date for years and they show no sign of upgrading it, and there's just so many bugs sometimes. I can recall when expansions would drop and certain missions or activities would literally cause your game to crash. I understand some of these times bugs will happen, but Cryptic never seems to truly test their new content.I am truly saddened and sickened by how awful the monetisation methods have become in this game. Like I said, I still do love this game, but I don't recommend new players to try it right now. I PRAY that they will eventually realize the insanity behind their practices and actually put some love and effort into this game, but until they do, you're better off playing older Star Trek games like Armada. \",-1],\n",
    "    [\"The demo ran flawlessly on Linux via Proton. After release, Denuvo absolutely destroys performance. Micro-stutters abound, the death of a game in this genre. On windows, there are fewer stutters, so it's a bit more playable, but they are still present at times. This game looks like a masterpiece, shame it can't be played normally. \",-1],\n",
    "    [\"I COULDNT GO DOWN THE SLIDE! THIS GAME SUCKED DONKEY BALLS!\",-1],\n",
    "    [\"I should have refunded this a bit sooner. \",-1],\n",
    "    [\"It's a good game ruined by jank and the boring loot mechanics. Also no music??. \",-1],\n",
    "    [\"they like turned a sick ass tactics mmo into a crappy mobile game, it's insane\",-1],\n",
    "    [\"Server issues aside, Game is solid 8/10\",1],\n",
    "    [\"To sum up this game in a way only players will understand: This game has a unique ability to make you think about your next play through while you're still playing your current one.\",1],\n",
    "    [\"Don't play if you enjoy remembering to eat or drink, remembering there is an outside or having free time. Other than that amazing game that can keep you entertained for hours on end\",1],\n",
    "    [\"Don't spend real money on this. You can easily get to rank 5 by playing nothing but story missions, get some fanservice, fly the Enterprise-E around, do all the things you really want to do as a Star Trek fan, all within a few dozen hours. If, at the end of that journey, you find that you enjoy MMORPGS, then knock yourself out. But if you're a non-MMO-player like me who just really loves the Star Trek franchise, free-to-play is the way to go. \",1],\n",
    "    [\"Phenomenal. The combat is excellent and the level design is on point. This is a soulsborne where the developers did their homework. \",1],\n",
    "    [\"The game is filled with bugs but I'm still recommending it because I got to witness my friends getting scared to death which was a really pleasant experience.\",1],\n",
    "    [\"some ♥♥♥♥ called me the n word so I nuked the whole map. i love this game\",1],\n",
    "    [\"this is cheaper then drugs and more addictive but with somehow the same damaging potential to your social life but with non of the long lasting effects and with better story telling highly recommend\",1],\n",
    "    [\"You must run to collect more pesos\",1]\n",
    "    ]\n",
    "\n",
    "sent_analysis_algs = [\n",
    "    [mnb, 'MultinomialNB'],\n",
    "    # [gnb, 'GaussianNB'],\n",
    "    [bnb, 'BernoulliNB'],\n",
    "    [clf_tree, 'tree'],\n",
    "    [clf_sgd, 'SGD']]\n",
    "\n",
    "benchmark = {}\n",
    "for alg, name in sent_analysis_algs:\n",
    "    benchmark[name] = [0, []]\n",
    "    for rev, expected_res in reviews:\n",
    "        res = checker(rev,alg)\n",
    "        if res == expected_res:\n",
    "            benchmark[name][0] +=1\n",
    "        else:\n",
    "            benchmark[name][1].append(rev)\n",
    "benchmark"
   ],
   "metadata": {
    "collapsed": false
   }
  },
  {
   "cell_type": "markdown",
   "source": [
    "# 5.Saving the models\n"
   ],
   "metadata": {
    "collapsed": false
   }
  },
  {
   "cell_type": "code",
   "execution_count": null,
   "outputs": [],
   "source": [
    "from joblib import dump\n",
    "dump(mnb, 'MultinomialNB.joblib')\n",
    "# dump(gnb, 'GaussianNB.joblib')\n",
    "dump(bnb, 'BernoulliNB.joblib')\n",
    "dump(clf_tree, 'tree.joblib')\n",
    "dump(clf_sgd, 'SGD.joblib')"
   ],
   "metadata": {
    "collapsed": false
   }
  },
  {
   "cell_type": "markdown",
   "source": [
    "# 6.Loading the model"
   ],
   "metadata": {
    "collapsed": false
   }
  },
  {
   "cell_type": "code",
   "execution_count": null,
   "outputs": [],
   "source": [
    "from joblib import load\n",
    "mnb = load('MultinomialNB.joblib')\n",
    "# gnb = load('GaussianNB.joblib')\n",
    "bnb = load('BernoulliNB.joblib')\n",
    "clf_tree = load('tree.joblib')\n",
    "clf_sgd = load('SGD.joblib')"
   ],
   "metadata": {
    "collapsed": false
   }
  },
  {
   "cell_type": "markdown",
   "source": [
    "# 7.Tests"
   ],
   "metadata": {
    "collapsed": false
   }
  },
  {
   "cell_type": "code",
   "execution_count": null,
   "outputs": [],
   "source": [
    "all_ids = set(new_df['app_id'])\n",
    "all_ids"
   ],
   "metadata": {
    "collapsed": false
   }
  },
  {
   "cell_type": "code",
   "execution_count": null,
   "outputs": [],
   "source": [
    "keys = {'app_id', 'app_name'}\n",
    "all_games = {key: new_df[key] for key in keys}"
   ],
   "metadata": {
    "collapsed": false
   }
  },
  {
   "cell_type": "code",
   "execution_count": null,
   "outputs": [],
   "source": [
    "text_extracted = new_df.groupby('app_id')['text'].apply(list)"
   ],
   "metadata": {
    "collapsed": false
   }
  },
  {
   "cell_type": "code",
   "execution_count": null,
   "outputs": [],
   "source": [
    "text_extracted.describe()"
   ],
   "metadata": {
    "collapsed": false
   }
  },
  {
   "cell_type": "markdown",
   "source": [
    "# 8.Load game categories"
   ],
   "metadata": {
    "collapsed": false
   }
  },
  {
   "cell_type": "code",
   "execution_count": null,
   "outputs": [],
   "source": [
    "#loading game categories\n",
    "\n",
    "gameid_tags = pd.read_csv('games_tags.csv')\n",
    "gameid_tags.info()"
   ],
   "metadata": {
    "collapsed": false
   }
  },
  {
   "cell_type": "markdown",
   "source": [
    "# 9.Rank games based on their sentiment analysis"
   ],
   "metadata": {
    "collapsed": false
   }
  },
  {
   "cell_type": "code",
   "execution_count": null,
   "outputs": [],
   "source": [
    "#Weight formula: (valoreSentiment x 1,5)(se review_text non null) + 1,3 x review_score + 1,15 x (review_votes)"
   ],
   "metadata": {
    "collapsed": false
   }
  },
  {
   "cell_type": "markdown",
   "source": [
    "# 10.Given a steam user, analyze its gaming behaviours"
   ],
   "metadata": {
    "collapsed": false
   }
  },
  {
   "cell_type": "code",
   "execution_count": null,
   "outputs": [],
   "source": [],
   "metadata": {
    "collapsed": false
   }
  },
  {
   "cell_type": "markdown",
   "source": [
    "# 11.Take a user and based on its hours spent by playing a certain genre, try to recommend a certain game that fits  its tastes"
   ],
   "metadata": {
    "collapsed": false
   }
  },
  {
   "cell_type": "code",
   "execution_count": null,
   "outputs": [],
   "source": [],
   "metadata": {
    "collapsed": false
   }
  }
 ]
}
