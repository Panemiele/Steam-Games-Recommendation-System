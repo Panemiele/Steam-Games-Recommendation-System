{
 "metadata": {
  "kernelspec": {
   "language": "python",
   "display_name": "Python 3",
   "name": "python3"
  },
  "language_info": {
   "pygments_lexer": "ipython3",
   "nbconvert_exporter": "python",
   "version": "3.6.4",
   "file_extension": ".py",
   "codemirror_mode": {
    "name": "ipython",
    "version": 3
   },
   "name": "python",
   "mimetype": "text/x-python"
  }
 },
 "nbformat_minor": 4,
 "nbformat": 4,
 "cells": [
  {
   "cell_type": "code",
   "source": [
    "import numpy as np\n",
    "import pandas as pd \n",
    "from matplotlib import pyplot as plt\n",
    "import nltk"
   ],
   "metadata": {
    "_uuid": "8f2839f25d086af736a60e9eeb907d3b93b6e0e5",
    "_cell_guid": "b1076dfc-b9ad-4769-8c92-a6c4dae69d19",
    "execution": {
     "iopub.status.busy": "2023-02-19T09:00:39.020646Z",
     "iopub.execute_input": "2023-02-19T09:00:39.021108Z",
     "iopub.status.idle": "2023-02-19T09:00:39.026289Z",
     "shell.execute_reply.started": "2023-02-19T09:00:39.02107Z",
     "shell.execute_reply": "2023-02-19T09:00:39.025384Z"
    },
    "trusted": true,
    "pycharm": {
     "name": "#%%\n"
    }
   },
   "execution_count": 3,
   "outputs": []
  },
  {
   "cell_type": "markdown",
   "source": [
    "# Loading the dataset"
   ],
   "metadata": {
    "pycharm": {
     "name": "#%% md\n"
    }
   }
  },
  {
   "cell_type": "code",
   "source": [
    "revs_og = pd.read_csv('kaggle/dataset.csv')\n",
    "revs_og.head()"
   ],
   "metadata": {
    "execution": {
     "iopub.status.busy": "2023-02-19T09:00:40.257022Z",
     "iopub.execute_input": "2023-02-19T09:00:40.258088Z",
     "iopub.status.idle": "2023-02-19T09:01:37.551417Z",
     "shell.execute_reply.started": "2023-02-19T09:00:40.258044Z",
     "shell.execute_reply": "2023-02-19T09:01:37.550239Z"
    },
    "trusted": true,
    "pycharm": {
     "name": "#%%\n"
    }
   },
   "execution_count": 4,
   "outputs": [
    {
     "data": {
      "text/plain": "   app_id        app_name                                        review_text  \\\n0      10  Counter-Strike                                    Ruined my life.   \n1      10  Counter-Strike  This will be more of a ''my experience with th...   \n2      10  Counter-Strike                      This game saved my virginity.   \n3      10  Counter-Strike  • Do you like original games? • Do you like ga...   \n4      10  Counter-Strike           Easy to learn, hard to master.             \n\n   review_score  review_votes  \n0             1             0  \n1             1             1  \n2             1             0  \n3             1             0  \n4             1             1  ",
      "text/html": "<div>\n<style scoped>\n    .dataframe tbody tr th:only-of-type {\n        vertical-align: middle;\n    }\n\n    .dataframe tbody tr th {\n        vertical-align: top;\n    }\n\n    .dataframe thead th {\n        text-align: right;\n    }\n</style>\n<table border=\"1\" class=\"dataframe\">\n  <thead>\n    <tr style=\"text-align: right;\">\n      <th></th>\n      <th>app_id</th>\n      <th>app_name</th>\n      <th>review_text</th>\n      <th>review_score</th>\n      <th>review_votes</th>\n    </tr>\n  </thead>\n  <tbody>\n    <tr>\n      <th>0</th>\n      <td>10</td>\n      <td>Counter-Strike</td>\n      <td>Ruined my life.</td>\n      <td>1</td>\n      <td>0</td>\n    </tr>\n    <tr>\n      <th>1</th>\n      <td>10</td>\n      <td>Counter-Strike</td>\n      <td>This will be more of a ''my experience with th...</td>\n      <td>1</td>\n      <td>1</td>\n    </tr>\n    <tr>\n      <th>2</th>\n      <td>10</td>\n      <td>Counter-Strike</td>\n      <td>This game saved my virginity.</td>\n      <td>1</td>\n      <td>0</td>\n    </tr>\n    <tr>\n      <th>3</th>\n      <td>10</td>\n      <td>Counter-Strike</td>\n      <td>• Do you like original games? • Do you like ga...</td>\n      <td>1</td>\n      <td>0</td>\n    </tr>\n    <tr>\n      <th>4</th>\n      <td>10</td>\n      <td>Counter-Strike</td>\n      <td>Easy to learn, hard to master.</td>\n      <td>1</td>\n      <td>1</td>\n    </tr>\n  </tbody>\n</table>\n</div>"
     },
     "execution_count": 2,
     "metadata": {},
     "output_type": "execute_result"
    },
    {
     "data": {
      "text/plain": "   app_id        app_name                                        review_text  \\\n0      10  Counter-Strike                                    Ruined my life.   \n1      10  Counter-Strike  This will be more of a ''my experience with th...   \n2      10  Counter-Strike                      This game saved my virginity.   \n3      10  Counter-Strike  • Do you like original games? • Do you like ga...   \n4      10  Counter-Strike           Easy to learn, hard to master.             \n\n   review_score  review_votes  \n0             1             0  \n1             1             1  \n2             1             0  \n3             1             0  \n4             1             1  ",
      "text/html": "<div>\n<style scoped>\n    .dataframe tbody tr th:only-of-type {\n        vertical-align: middle;\n    }\n\n    .dataframe tbody tr th {\n        vertical-align: top;\n    }\n\n    .dataframe thead th {\n        text-align: right;\n    }\n</style>\n<table border=\"1\" class=\"dataframe\">\n  <thead>\n    <tr style=\"text-align: right;\">\n      <th></th>\n      <th>app_id</th>\n      <th>app_name</th>\n      <th>review_text</th>\n      <th>review_score</th>\n      <th>review_votes</th>\n    </tr>\n  </thead>\n  <tbody>\n    <tr>\n      <th>0</th>\n      <td>10</td>\n      <td>Counter-Strike</td>\n      <td>Ruined my life.</td>\n      <td>1</td>\n      <td>0</td>\n    </tr>\n    <tr>\n      <th>1</th>\n      <td>10</td>\n      <td>Counter-Strike</td>\n      <td>This will be more of a ''my experience with th...</td>\n      <td>1</td>\n      <td>1</td>\n    </tr>\n    <tr>\n      <th>2</th>\n      <td>10</td>\n      <td>Counter-Strike</td>\n      <td>This game saved my virginity.</td>\n      <td>1</td>\n      <td>0</td>\n    </tr>\n    <tr>\n      <th>3</th>\n      <td>10</td>\n      <td>Counter-Strike</td>\n      <td>• Do you like original games? • Do you like ga...</td>\n      <td>1</td>\n      <td>0</td>\n    </tr>\n    <tr>\n      <th>4</th>\n      <td>10</td>\n      <td>Counter-Strike</td>\n      <td>Easy to learn, hard to master.</td>\n      <td>1</td>\n      <td>1</td>\n    </tr>\n  </tbody>\n</table>\n</div>"
     },
     "execution_count": 4,
     "metadata": {},
     "output_type": "execute_result"
    }
   ]
  },
  {
   "cell_type": "code",
   "source": [
    "revs_og.shape"
   ],
   "metadata": {
    "execution": {
     "iopub.status.busy": "2023-02-19T09:01:37.55336Z",
     "iopub.execute_input": "2023-02-19T09:01:37.553786Z",
     "iopub.status.idle": "2023-02-19T09:01:37.562144Z",
     "shell.execute_reply.started": "2023-02-19T09:01:37.553753Z",
     "shell.execute_reply": "2023-02-19T09:01:37.560917Z"
    },
    "trusted": true,
    "pycharm": {
     "name": "#%%\n"
    }
   },
   "execution_count": null,
   "outputs": []
  },
  {
   "cell_type": "code",
   "source": [
    "revs_og.info()"
   ],
   "metadata": {
    "execution": {
     "iopub.status.busy": "2023-02-19T09:01:37.563863Z",
     "iopub.execute_input": "2023-02-19T09:01:37.564192Z",
     "iopub.status.idle": "2023-02-19T09:01:37.592242Z",
     "shell.execute_reply.started": "2023-02-19T09:01:37.564163Z",
     "shell.execute_reply": "2023-02-19T09:01:37.590901Z"
    },
    "trusted": true,
    "pycharm": {
     "name": "#%%\n"
    }
   },
   "execution_count": null,
   "outputs": []
  },
  {
   "cell_type": "markdown",
   "source": [
    "# 1. Data Cleaning"
   ],
   "metadata": {
    "pycharm": {
     "name": "#%% md\n"
    }
   }
  },
  {
   "cell_type": "markdown",
   "source": [
    "**Null Value Checking**"
   ],
   "metadata": {
    "pycharm": {
     "name": "#%% md\n"
    }
   }
  },
  {
   "cell_type": "code",
   "source": [
    "revs_og.isnull().sum()"
   ],
   "metadata": {
    "execution": {
     "iopub.status.busy": "2023-02-19T09:01:37.593999Z",
     "iopub.execute_input": "2023-02-19T09:01:37.594352Z",
     "iopub.status.idle": "2023-02-19T09:01:38.539649Z",
     "shell.execute_reply.started": "2023-02-19T09:01:37.59432Z",
     "shell.execute_reply": "2023-02-19T09:01:38.538294Z"
    },
    "trusted": true,
    "pycharm": {
     "name": "#%%\n"
    }
   },
   "execution_count": null,
   "outputs": []
  },
  {
   "cell_type": "code",
   "source": [
    "revs = revs_og[['app_id', 'app_name', 'review_score','review_text']]"
   ],
   "metadata": {
    "execution": {
     "iopub.status.busy": "2023-02-19T09:01:38.543472Z",
     "iopub.execute_input": "2023-02-19T09:01:38.543888Z",
     "iopub.status.idle": "2023-02-19T09:01:38.706517Z",
     "shell.execute_reply.started": "2023-02-19T09:01:38.543854Z",
     "shell.execute_reply": "2023-02-19T09:01:38.705305Z"
    },
    "trusted": true,
    "pycharm": {
     "name": "#%%\n"
    }
   },
   "execution_count": null,
   "outputs": []
  },
  {
   "cell_type": "code",
   "source": [
    "revs.isnull().sum()"
   ],
   "metadata": {
    "execution": {
     "iopub.status.busy": "2023-02-19T09:01:38.707776Z",
     "iopub.execute_input": "2023-02-19T09:01:38.708228Z",
     "iopub.status.idle": "2023-02-19T09:01:39.341079Z",
     "shell.execute_reply.started": "2023-02-19T09:01:38.708148Z",
     "shell.execute_reply": "2023-02-19T09:01:39.340043Z"
    },
    "trusted": true,
    "pycharm": {
     "name": "#%%\n"
    }
   },
   "execution_count": null,
   "outputs": []
  },
  {
   "cell_type": "code",
   "source": [
    "revs.dropna(inplace = True)"
   ],
   "metadata": {
    "execution": {
     "iopub.status.busy": "2023-02-19T09:01:39.342519Z",
     "iopub.execute_input": "2023-02-19T09:01:39.342938Z",
     "iopub.status.idle": "2023-02-19T09:01:40.458382Z",
     "shell.execute_reply.started": "2023-02-19T09:01:39.342902Z",
     "shell.execute_reply": "2023-02-19T09:01:40.457234Z"
    },
    "trusted": true,
    "pycharm": {
     "name": "#%%\n"
    }
   },
   "execution_count": null,
   "outputs": []
  },
  {
   "cell_type": "code",
   "source": [
    "revs.head()"
   ],
   "metadata": {
    "execution": {
     "iopub.status.busy": "2023-02-19T09:01:40.460145Z",
     "iopub.execute_input": "2023-02-19T09:01:40.460678Z",
     "iopub.status.idle": "2023-02-19T09:01:40.472599Z",
     "shell.execute_reply.started": "2023-02-19T09:01:40.460625Z",
     "shell.execute_reply": "2023-02-19T09:01:40.471056Z"
    },
    "trusted": true,
    "pycharm": {
     "name": "#%%\n"
    }
   },
   "execution_count": null,
   "outputs": []
  },
  {
   "cell_type": "markdown",
   "source": [],
   "metadata": {
    "collapsed": false,
    "pycharm": {
     "name": "#%% md\n"
    }
   }
  },
  {
   "cell_type": "code",
   "source": [
    "revs['review_score'].unique()"
   ],
   "metadata": {
    "execution": {
     "iopub.status.busy": "2023-02-19T09:01:40.475352Z",
     "iopub.execute_input": "2023-02-19T09:01:40.476087Z",
     "iopub.status.idle": "2023-02-19T09:01:40.525029Z",
     "shell.execute_reply.started": "2023-02-19T09:01:40.47604Z",
     "shell.execute_reply": "2023-02-19T09:01:40.523814Z"
    },
    "trusted": true,
    "pycharm": {
     "name": "#%%\n"
    }
   },
   "execution_count": null,
   "outputs": []
  },
  {
   "cell_type": "code",
   "source": [
    "revs.shape"
   ],
   "metadata": {
    "execution": {
     "iopub.status.busy": "2023-02-19T09:01:40.527027Z",
     "iopub.execute_input": "2023-02-19T09:01:40.527496Z",
     "iopub.status.idle": "2023-02-19T09:01:40.535284Z",
     "shell.execute_reply.started": "2023-02-19T09:01:40.52745Z",
     "shell.execute_reply": "2023-02-19T09:01:40.534095Z"
    },
    "trusted": true,
    "pycharm": {
     "name": "#%%\n"
    }
   },
   "execution_count": null,
   "outputs": []
  },
  {
   "cell_type": "code",
   "source": [
    "new_df = revs.sample(n = 50000)"
   ],
   "metadata": {
    "execution": {
     "iopub.status.busy": "2023-02-19T09:01:40.537183Z",
     "iopub.execute_input": "2023-02-19T09:01:40.537711Z",
     "iopub.status.idle": "2023-02-19T09:01:40.858421Z",
     "shell.execute_reply.started": "2023-02-19T09:01:40.537667Z",
     "shell.execute_reply": "2023-02-19T09:01:40.857128Z"
    },
    "trusted": true,
    "pycharm": {
     "name": "#%%\n"
    }
   },
   "execution_count": null,
   "outputs": []
  },
  {
   "cell_type": "code",
   "source": [
    "new_df.shape"
   ],
   "metadata": {
    "execution": {
     "iopub.status.busy": "2023-02-19T09:01:40.860169Z",
     "iopub.execute_input": "2023-02-19T09:01:40.860728Z",
     "iopub.status.idle": "2023-02-19T09:01:40.868494Z",
     "shell.execute_reply.started": "2023-02-19T09:01:40.860678Z",
     "shell.execute_reply": "2023-02-19T09:01:40.867276Z"
    },
    "trusted": true,
    "pycharm": {
     "name": "#%%\n"
    }
   },
   "execution_count": null,
   "outputs": []
  },
  {
   "cell_type": "code",
   "source": [
    "new_df.isnull().sum()"
   ],
   "metadata": {
    "execution": {
     "iopub.status.busy": "2023-02-19T09:01:40.870471Z",
     "iopub.execute_input": "2023-02-19T09:01:40.870913Z",
     "iopub.status.idle": "2023-02-19T09:01:40.89369Z",
     "shell.execute_reply.started": "2023-02-19T09:01:40.870871Z",
     "shell.execute_reply": "2023-02-19T09:01:40.89253Z"
    },
    "trusted": true,
    "pycharm": {
     "name": "#%%\n"
    }
   },
   "execution_count": null,
   "outputs": []
  },
  {
   "cell_type": "code",
   "source": [
    "new_df.info()"
   ],
   "metadata": {
    "execution": {
     "iopub.status.busy": "2023-02-19T09:01:40.898255Z",
     "iopub.execute_input": "2023-02-19T09:01:40.898696Z",
     "iopub.status.idle": "2023-02-19T09:01:40.92198Z",
     "shell.execute_reply.started": "2023-02-19T09:01:40.898666Z",
     "shell.execute_reply": "2023-02-19T09:01:40.920905Z"
    },
    "trusted": true,
    "pycharm": {
     "name": "#%%\n"
    }
   },
   "execution_count": null,
   "outputs": []
  },
  {
   "cell_type": "code",
   "source": [
    "new_df.reset_index(drop = True, inplace = True)"
   ],
   "metadata": {
    "execution": {
     "iopub.status.busy": "2023-02-19T09:01:40.923116Z",
     "iopub.execute_input": "2023-02-19T09:01:40.923428Z",
     "iopub.status.idle": "2023-02-19T09:01:40.928407Z",
     "shell.execute_reply.started": "2023-02-19T09:01:40.923399Z",
     "shell.execute_reply": "2023-02-19T09:01:40.92762Z"
    },
    "trusted": true,
    "pycharm": {
     "name": "#%%\n"
    }
   },
   "execution_count": null,
   "outputs": []
  },
  {
   "cell_type": "code",
   "source": [
    "new_df.head()"
   ],
   "metadata": {
    "execution": {
     "iopub.status.busy": "2023-02-19T09:01:40.929386Z",
     "iopub.execute_input": "2023-02-19T09:01:40.930283Z",
     "iopub.status.idle": "2023-02-19T09:01:40.945725Z",
     "shell.execute_reply.started": "2023-02-19T09:01:40.930235Z",
     "shell.execute_reply": "2023-02-19T09:01:40.944762Z"
    },
    "trusted": true,
    "pycharm": {
     "name": "#%%\n"
    }
   },
   "execution_count": null,
   "outputs": []
  },
  {
   "cell_type": "markdown",
   "source": [
    "**Checking if there is any duplicated row**"
   ],
   "metadata": {
    "pycharm": {
     "name": "#%% md\n"
    }
   }
  },
  {
   "cell_type": "code",
   "source": [
    "# Print the duplicated\n",
    "# new_df[new_df.duplicated()]\n",
    "new_df.duplicated().sum()"
   ],
   "metadata": {
    "execution": {
     "iopub.status.busy": "2023-02-19T09:01:40.946996Z",
     "iopub.execute_input": "2023-02-19T09:01:40.947793Z",
     "iopub.status.idle": "2023-02-19T09:01:41.035744Z",
     "shell.execute_reply.started": "2023-02-19T09:01:40.947757Z",
     "shell.execute_reply": "2023-02-19T09:01:41.034605Z"
    },
    "trusted": true,
    "pycharm": {
     "name": "#%%\n"
    }
   },
   "execution_count": null,
   "outputs": []
  },
  {
   "cell_type": "markdown",
   "source": [
    "**Dropping the duplicated rows**"
   ],
   "metadata": {
    "pycharm": {
     "name": "#%% md\n"
    }
   }
  },
  {
   "cell_type": "code",
   "source": [
    "new_df.drop_duplicates(inplace=True)"
   ],
   "metadata": {
    "execution": {
     "iopub.status.busy": "2023-02-19T09:01:41.037728Z",
     "iopub.execute_input": "2023-02-19T09:01:41.038189Z",
     "iopub.status.idle": "2023-02-19T09:01:41.119068Z",
     "shell.execute_reply.started": "2023-02-19T09:01:41.038145Z",
     "shell.execute_reply": "2023-02-19T09:01:41.117853Z"
    },
    "trusted": true,
    "pycharm": {
     "name": "#%%\n"
    }
   },
   "execution_count": null,
   "outputs": []
  },
  {
   "cell_type": "code",
   "source": [
    "new_df.duplicated().sum()"
   ],
   "metadata": {
    "execution": {
     "iopub.status.busy": "2023-02-19T09:01:41.120397Z",
     "iopub.execute_input": "2023-02-19T09:01:41.120736Z",
     "iopub.status.idle": "2023-02-19T09:01:41.196497Z",
     "shell.execute_reply.started": "2023-02-19T09:01:41.120705Z",
     "shell.execute_reply": "2023-02-19T09:01:41.195355Z"
    },
    "trusted": true,
    "pycharm": {
     "name": "#%%\n"
    }
   },
   "execution_count": null,
   "outputs": []
  },
  {
   "cell_type": "code",
   "source": [
    "new_df.shape"
   ],
   "metadata": {
    "execution": {
     "iopub.status.busy": "2023-02-19T09:01:41.197951Z",
     "iopub.execute_input": "2023-02-19T09:01:41.201264Z",
     "iopub.status.idle": "2023-02-19T09:01:41.207428Z",
     "shell.execute_reply.started": "2023-02-19T09:01:41.201225Z",
     "shell.execute_reply": "2023-02-19T09:01:41.206478Z"
    },
    "trusted": true,
    "pycharm": {
     "name": "#%%\n"
    }
   },
   "execution_count": null,
   "outputs": []
  },
  {
   "cell_type": "code",
   "source": [
    "new_df.rename(columns={'review_score':'target','review_text':'text'},inplace=True)"
   ],
   "metadata": {
    "execution": {
     "iopub.status.busy": "2023-02-19T09:01:41.208779Z",
     "iopub.execute_input": "2023-02-19T09:01:41.20913Z",
     "iopub.status.idle": "2023-02-19T09:01:41.21774Z",
     "shell.execute_reply.started": "2023-02-19T09:01:41.209101Z",
     "shell.execute_reply": "2023-02-19T09:01:41.216956Z"
    },
    "trusted": true,
    "pycharm": {
     "name": "#%%\n"
    }
   },
   "execution_count": null,
   "outputs": []
  },
  {
   "cell_type": "code",
   "source": [
    "new_df.head()"
   ],
   "metadata": {
    "execution": {
     "iopub.status.busy": "2023-02-19T09:01:41.21878Z",
     "iopub.execute_input": "2023-02-19T09:01:41.219824Z",
     "iopub.status.idle": "2023-02-19T09:01:41.233028Z",
     "shell.execute_reply.started": "2023-02-19T09:01:41.219778Z",
     "shell.execute_reply": "2023-02-19T09:01:41.232236Z"
    },
    "trusted": true,
    "pycharm": {
     "name": "#%%\n"
    }
   },
   "execution_count": null,
   "outputs": []
  },
  {
   "cell_type": "markdown",
   "source": [
    "# 2. EDA"
   ],
   "metadata": {
    "pycharm": {
     "name": "#%% md\n"
    }
   }
  },
  {
   "cell_type": "code",
   "source": [
    "new_df['target'].value_counts()"
   ],
   "metadata": {
    "execution": {
     "iopub.status.busy": "2023-02-19T09:01:41.234276Z",
     "iopub.execute_input": "2023-02-19T09:01:41.234575Z",
     "iopub.status.idle": "2023-02-19T09:01:41.248515Z",
     "shell.execute_reply.started": "2023-02-19T09:01:41.234547Z",
     "shell.execute_reply": "2023-02-19T09:01:41.247295Z"
    },
    "trusted": true,
    "pycharm": {
     "name": "#%%\n"
    }
   },
   "execution_count": null,
   "outputs": []
  },
  {
   "cell_type": "code",
   "source": [
    "plt.pie(new_df['target'].value_counts(),labels=['positive','negative'],autopct='%0.2f')\n",
    "plt.show()"
   ],
   "metadata": {
    "execution": {
     "iopub.status.busy": "2023-02-19T09:01:41.249903Z",
     "iopub.execute_input": "2023-02-19T09:01:41.250567Z",
     "iopub.status.idle": "2023-02-19T09:01:41.413707Z",
     "shell.execute_reply.started": "2023-02-19T09:01:41.250526Z",
     "shell.execute_reply": "2023-02-19T09:01:41.412051Z"
    },
    "trusted": true,
    "pycharm": {
     "name": "#%%\n"
    }
   },
   "execution_count": null,
   "outputs": []
  },
  {
   "cell_type": "markdown",
   "source": [
    "> Data is imbalanced"
   ],
   "metadata": {
    "pycharm": {
     "name": "#%% md\n"
    }
   }
  },
  {
   "cell_type": "code",
   "source": [
    "nltk.download('punkt')"
   ],
   "metadata": {
    "execution": {
     "iopub.status.busy": "2023-02-19T09:01:41.415917Z",
     "iopub.execute_input": "2023-02-19T09:01:41.416627Z",
     "iopub.status.idle": "2023-02-19T09:01:41.640739Z",
     "shell.execute_reply.started": "2023-02-19T09:01:41.416563Z",
     "shell.execute_reply": "2023-02-19T09:01:41.639643Z"
    },
    "trusted": true,
    "pycharm": {
     "name": "#%%\n"
    }
   },
   "execution_count": null,
   "outputs": []
  },
  {
   "cell_type": "code",
   "source": [
    "new_df['char_num'] = new_df['text'].apply(len)"
   ],
   "metadata": {
    "execution": {
     "iopub.status.busy": "2023-02-19T09:01:41.642388Z",
     "iopub.execute_input": "2023-02-19T09:01:41.642826Z",
     "iopub.status.idle": "2023-02-19T09:01:41.673751Z",
     "shell.execute_reply.started": "2023-02-19T09:01:41.642778Z",
     "shell.execute_reply": "2023-02-19T09:01:41.672481Z"
    },
    "trusted": true,
    "pycharm": {
     "name": "#%%\n"
    }
   },
   "execution_count": null,
   "outputs": []
  },
  {
   "cell_type": "code",
   "source": [
    "new_df.head()"
   ],
   "metadata": {
    "execution": {
     "iopub.status.busy": "2023-02-19T09:01:41.675253Z",
     "iopub.execute_input": "2023-02-19T09:01:41.675682Z",
     "iopub.status.idle": "2023-02-19T09:01:41.687304Z",
     "shell.execute_reply.started": "2023-02-19T09:01:41.675639Z",
     "shell.execute_reply": "2023-02-19T09:01:41.686095Z"
    },
    "trusted": true,
    "pycharm": {
     "name": "#%%\n"
    }
   },
   "execution_count": null,
   "outputs": []
  },
  {
   "cell_type": "code",
   "source": [
    "#word nums\n",
    "new_df['word_num'] = new_df['text'].apply(lambda x: len(nltk.word_tokenize(x)))\n",
    "new_df.head()"
   ],
   "metadata": {
    "execution": {
     "iopub.status.busy": "2023-02-19T09:01:41.689332Z",
     "iopub.execute_input": "2023-02-19T09:01:41.689859Z",
     "iopub.status.idle": "2023-02-19T09:02:07.152915Z",
     "shell.execute_reply.started": "2023-02-19T09:01:41.689824Z",
     "shell.execute_reply": "2023-02-19T09:02:07.152006Z"
    },
    "trusted": true,
    "pycharm": {
     "name": "#%%\n"
    }
   },
   "execution_count": null,
   "outputs": []
  },
  {
   "cell_type": "code",
   "source": [
    "#num of sentences\n",
    "new_df['sent_num'] = new_df['text'].apply(lambda x: len(nltk.sent_tokenize(x)))\n",
    "new_df.head()"
   ],
   "metadata": {
    "execution": {
     "iopub.status.busy": "2023-02-19T09:02:07.154345Z",
     "iopub.execute_input": "2023-02-19T09:02:07.155115Z",
     "iopub.status.idle": "2023-02-19T09:02:12.447162Z",
     "shell.execute_reply.started": "2023-02-19T09:02:07.155072Z",
     "shell.execute_reply": "2023-02-19T09:02:12.446087Z"
    },
    "trusted": true,
    "pycharm": {
     "name": "#%%\n"
    }
   },
   "execution_count": null,
   "outputs": []
  },
  {
   "cell_type": "code",
   "source": [
    "new_df[['char_num','word_num','sent_num']].describe()"
   ],
   "metadata": {
    "execution": {
     "iopub.status.busy": "2023-02-19T09:02:12.448583Z",
     "iopub.execute_input": "2023-02-19T09:02:12.448939Z",
     "iopub.status.idle": "2023-02-19T09:02:12.478367Z",
     "shell.execute_reply.started": "2023-02-19T09:02:12.448904Z",
     "shell.execute_reply": "2023-02-19T09:02:12.477135Z"
    },
    "trusted": true,
    "pycharm": {
     "name": "#%%\n"
    }
   },
   "execution_count": null,
   "outputs": []
  },
  {
   "cell_type": "code",
   "source": [
    "#neg. reviews description\n",
    "new_df[new_df['target'] == -1][['char_num','word_num','sent_num']].describe()"
   ],
   "metadata": {
    "execution": {
     "iopub.status.busy": "2023-02-19T09:02:12.479843Z",
     "iopub.execute_input": "2023-02-19T09:02:12.480299Z",
     "iopub.status.idle": "2023-02-19T09:02:12.507253Z",
     "shell.execute_reply.started": "2023-02-19T09:02:12.480255Z",
     "shell.execute_reply": "2023-02-19T09:02:12.506056Z"
    },
    "trusted": true,
    "pycharm": {
     "name": "#%%\n"
    }
   },
   "execution_count": null,
   "outputs": []
  },
  {
   "cell_type": "code",
   "source": [
    "#pos. reviews description\n",
    "new_df[new_df['target'] == 1][['char_num','word_num','sent_num']].describe()"
   ],
   "metadata": {
    "execution": {
     "iopub.status.busy": "2023-02-19T09:02:12.508504Z",
     "iopub.execute_input": "2023-02-19T09:02:12.509361Z",
     "iopub.status.idle": "2023-02-19T09:02:12.537532Z",
     "shell.execute_reply.started": "2023-02-19T09:02:12.509325Z",
     "shell.execute_reply": "2023-02-19T09:02:12.536552Z"
    },
    "trusted": true,
    "pycharm": {
     "name": "#%%\n"
    }
   },
   "execution_count": null,
   "outputs": []
  },
  {
   "cell_type": "code",
   "source": [
    "import seaborn as sns"
   ],
   "metadata": {
    "execution": {
     "iopub.status.busy": "2023-02-19T09:02:12.538749Z",
     "iopub.execute_input": "2023-02-19T09:02:12.539065Z",
     "iopub.status.idle": "2023-02-19T09:02:12.680483Z",
     "shell.execute_reply.started": "2023-02-19T09:02:12.539038Z",
     "shell.execute_reply": "2023-02-19T09:02:12.679201Z"
    },
    "trusted": true,
    "pycharm": {
     "name": "#%%\n"
    }
   },
   "execution_count": null,
   "outputs": []
  },
  {
   "cell_type": "code",
   "source": [
    "sns.histplot(new_df[new_df['target'] == 1]['char_num'])\n",
    "sns.histplot(new_df[new_df['target'] == -1]['char_num'],color='red')\n",
    "\n",
    "plt.show()"
   ],
   "metadata": {
    "execution": {
     "iopub.status.busy": "2023-02-19T09:02:12.681978Z",
     "iopub.execute_input": "2023-02-19T09:02:12.683245Z",
     "iopub.status.idle": "2023-02-19T09:02:14.133639Z",
     "shell.execute_reply.started": "2023-02-19T09:02:12.683185Z",
     "shell.execute_reply": "2023-02-19T09:02:14.132536Z"
    },
    "trusted": true,
    "pycharm": {
     "name": "#%%\n"
    }
   },
   "execution_count": null,
   "outputs": []
  },
  {
   "cell_type": "code",
   "source": [
    "sns.histplot(new_df[new_df['target'] == 1]['word_num'])\n",
    "sns.histplot(new_df[new_df['target'] == -1]['word_num'],color='red')\n",
    "\n",
    "plt.show()"
   ],
   "metadata": {
    "execution": {
     "iopub.status.busy": "2023-02-19T09:02:14.134883Z",
     "iopub.execute_input": "2023-02-19T09:02:14.135256Z",
     "iopub.status.idle": "2023-02-19T09:02:18.349135Z",
     "shell.execute_reply.started": "2023-02-19T09:02:14.135199Z",
     "shell.execute_reply": "2023-02-19T09:02:18.348044Z"
    },
    "trusted": true,
    "pycharm": {
     "name": "#%%\n"
    }
   },
   "execution_count": null,
   "outputs": []
  },
  {
   "cell_type": "code",
   "source": [
    "sns.histplot(new_df[new_df['target'] == 1]['sent_num'])\n",
    "sns.histplot(new_df[new_df['target'] == -1]['sent_num'],color='red')\n",
    "\n",
    "plt.show()"
   ],
   "metadata": {
    "execution": {
     "iopub.status.busy": "2023-02-19T09:02:18.350442Z",
     "iopub.execute_input": "2023-02-19T09:02:18.350777Z",
     "iopub.status.idle": "2023-02-19T09:02:24.681666Z",
     "shell.execute_reply.started": "2023-02-19T09:02:18.350746Z",
     "shell.execute_reply": "2023-02-19T09:02:24.678389Z"
    },
    "trusted": true,
    "pycharm": {
     "name": "#%%\n"
    }
   },
   "execution_count": null,
   "outputs": []
  },
  {
   "cell_type": "code",
   "source": [
    "#2D plots with the, using the target value as the X-axis, while the rest of the DF as the Y-axis\n",
    "# sns.pairplot(new_df,hue='target')\n",
    "# plt.show()"
   ],
   "metadata": {
    "execution": {
     "iopub.status.busy": "2023-02-19T09:02:24.683026Z",
     "iopub.execute_input": "2023-02-19T09:02:24.683388Z",
     "iopub.status.idle": "2023-02-19T09:02:47.591605Z",
     "shell.execute_reply.started": "2023-02-19T09:02:24.683355Z",
     "shell.execute_reply": "2023-02-19T09:02:47.590398Z"
    },
    "trusted": true,
    "pycharm": {
     "name": "#%%\n"
    }
   },
   "execution_count": null,
   "outputs": []
  },
  {
   "cell_type": "code",
   "source": [
    "# TODO Doesn't work(?) -> convert a String into a Float for whathever reason\n",
    "# sns.heatmap(new_df.corr(),annot=True)\n",
    "# plt.show()"
   ],
   "metadata": {
    "execution": {
     "iopub.status.busy": "2023-02-19T09:02:47.593274Z",
     "iopub.execute_input": "2023-02-19T09:02:47.593702Z",
     "iopub.status.idle": "2023-02-19T09:02:47.825806Z",
     "shell.execute_reply.started": "2023-02-19T09:02:47.593663Z",
     "shell.execute_reply": "2023-02-19T09:02:47.824686Z"
    },
    "trusted": true,
    "pycharm": {
     "name": "#%%\n"
    }
   },
   "execution_count": null,
   "outputs": []
  },
  {
   "cell_type": "markdown",
   "source": [
    "# 3. Data Preprocessing\n",
    "* Lower case\n",
    "* Tokenization\n",
    "* Removing special characters\n",
    "* Removing stop words and punctuation\n",
    "* stemming"
   ],
   "metadata": {
    "pycharm": {
     "name": "#%% md\n"
    }
   }
  },
  {
   "cell_type": "code",
   "source": [
    "new_df.reset_index(drop = True, inplace = True)"
   ],
   "metadata": {
    "execution": {
     "iopub.status.busy": "2023-02-19T09:02:47.82736Z",
     "iopub.execute_input": "2023-02-19T09:02:47.827813Z",
     "iopub.status.idle": "2023-02-19T09:02:47.832938Z",
     "shell.execute_reply.started": "2023-02-19T09:02:47.827777Z",
     "shell.execute_reply": "2023-02-19T09:02:47.831791Z"
    },
    "trusted": true,
    "pycharm": {
     "name": "#%%\n"
    }
   },
   "execution_count": null,
   "outputs": []
  },
  {
   "cell_type": "code",
   "source": [
    "from nltk.corpus import stopwords\n",
    "nltk.download('stopwords')\n",
    "import string\n",
    "from nltk.stem.porter import PorterStemmer\n",
    "ps = PorterStemmer()"
   ],
   "metadata": {
    "execution": {
     "iopub.status.busy": "2023-02-19T09:02:47.834415Z",
     "iopub.execute_input": "2023-02-19T09:02:47.835473Z",
     "iopub.status.idle": "2023-02-19T09:02:47.847903Z",
     "shell.execute_reply.started": "2023-02-19T09:02:47.835438Z",
     "shell.execute_reply": "2023-02-19T09:02:47.846603Z"
    },
    "trusted": true,
    "pycharm": {
     "name": "#%%\n"
    }
   },
   "execution_count": null,
   "outputs": []
  },
  {
   "cell_type": "code",
   "source": [
    "string.punctuation"
   ],
   "metadata": {
    "execution": {
     "iopub.status.busy": "2023-02-19T09:02:47.857021Z",
     "iopub.execute_input": "2023-02-19T09:02:47.85743Z",
     "iopub.status.idle": "2023-02-19T09:02:47.864947Z",
     "shell.execute_reply.started": "2023-02-19T09:02:47.857394Z",
     "shell.execute_reply": "2023-02-19T09:02:47.863605Z"
    },
    "trusted": true,
    "pycharm": {
     "name": "#%%\n"
    }
   },
   "execution_count": null,
   "outputs": []
  },
  {
   "cell_type": "code",
   "source": [
    "#Self-contained function for pandarallel to work\n",
    "import nltk\n",
    "nltk.download('stopwords')\n",
    "\n",
    "def convert_text(text):\n",
    "    #Importing libraries to work with pandarallel\n",
    "    import nltk\n",
    "    from nltk.corpus import stopwords\n",
    "    import string\n",
    "    from nltk.stem.porter import PorterStemmer\n",
    "\n",
    "    ps = PorterStemmer()\n",
    "\n",
    "    text = text.lower()\n",
    "    text = nltk.word_tokenize(text)\n",
    "    \n",
    "    x = []\n",
    "    y =[]\n",
    "    for i in text:\n",
    "        if i not in stopwords.words('english') and i not in string.punctuation:\n",
    "            x.append(i)\n",
    "    for i in x:\n",
    "        y.append(ps.stem(i))\n",
    "    return ' '.join(y)"
   ],
   "metadata": {
    "execution": {
     "iopub.status.busy": "2023-02-19T09:02:47.866581Z",
     "iopub.execute_input": "2023-02-19T09:02:47.867729Z",
     "iopub.status.idle": "2023-02-19T09:02:47.875026Z",
     "shell.execute_reply.started": "2023-02-19T09:02:47.867692Z",
     "shell.execute_reply": "2023-02-19T09:02:47.873859Z"
    },
    "trusted": true,
    "pycharm": {
     "name": "#%%\n"
    }
   },
   "execution_count": null,
   "outputs": []
  },
  {
   "cell_type": "code",
   "source": [
    "new_df['text'][8]"
   ],
   "metadata": {
    "execution": {
     "iopub.status.busy": "2023-02-19T09:02:47.876611Z",
     "iopub.execute_input": "2023-02-19T09:02:47.876983Z",
     "iopub.status.idle": "2023-02-19T09:02:47.887586Z",
     "shell.execute_reply.started": "2023-02-19T09:02:47.876933Z",
     "shell.execute_reply": "2023-02-19T09:02:47.886526Z"
    },
    "trusted": true,
    "pycharm": {
     "name": "#%%\n"
    }
   },
   "execution_count": null,
   "outputs": []
  },
  {
   "cell_type": "code",
   "source": [
    "from pandarallel import pandarallel\n",
    "pandarallel.initialize()\n",
    "new_df['converted_text']=new_df['text'].parallel_apply(convert_text)\n",
    "# new_df['converted_text']=new_df['text'].apply(convert_text)"
   ],
   "metadata": {
    "execution": {
     "iopub.status.busy": "2023-02-19T09:02:47.889292Z",
     "iopub.execute_input": "2023-02-19T09:02:47.889639Z",
     "iopub.status.idle": "2023-02-19T09:10:59.865749Z",
     "shell.execute_reply.started": "2023-02-19T09:02:47.889609Z",
     "shell.execute_reply": "2023-02-19T09:10:59.864618Z"
    },
    "trusted": true,
    "pycharm": {
     "name": "#%%\n"
    }
   },
   "execution_count": null,
   "outputs": []
  },
  {
   "cell_type": "code",
   "source": [
    "new_df.head()"
   ],
   "metadata": {
    "execution": {
     "iopub.status.busy": "2023-02-19T09:10:59.867527Z",
     "iopub.execute_input": "2023-02-19T09:10:59.868291Z",
     "iopub.status.idle": "2023-02-19T09:10:59.881791Z",
     "shell.execute_reply.started": "2023-02-19T09:10:59.868241Z",
     "shell.execute_reply": "2023-02-19T09:10:59.880484Z"
    },
    "trusted": true,
    "pycharm": {
     "name": "#%%\n"
    }
   },
   "execution_count": null,
   "outputs": []
  },
  {
   "cell_type": "code",
   "source": [
    "from wordcloud import WordCloud\n",
    "wc = WordCloud(width = 500,height=500,min_font_size = 10,background_color = 'white')"
   ],
   "metadata": {
    "execution": {
     "iopub.status.busy": "2023-02-19T09:10:59.883343Z",
     "iopub.execute_input": "2023-02-19T09:10:59.883739Z",
     "iopub.status.idle": "2023-02-19T09:10:59.916533Z",
     "shell.execute_reply.started": "2023-02-19T09:10:59.883695Z",
     "shell.execute_reply": "2023-02-19T09:10:59.915092Z"
    },
    "trusted": true,
    "pycharm": {
     "name": "#%%\n"
    }
   },
   "execution_count": null,
   "outputs": []
  },
  {
   "cell_type": "code",
   "source": [
    "pos_wc = wc.generate(new_df[new_df['target']==1]['converted_text'].str.cat(sep=\" \"))\n",
    "plt.imshow(pos_wc)\n",
    "plt.show()"
   ],
   "metadata": {
    "execution": {
     "iopub.status.busy": "2023-02-19T09:10:59.91824Z",
     "iopub.execute_input": "2023-02-19T09:10:59.91859Z",
     "iopub.status.idle": "2023-02-19T09:11:09.42987Z",
     "shell.execute_reply.started": "2023-02-19T09:10:59.918556Z",
     "shell.execute_reply": "2023-02-19T09:11:09.42865Z"
    },
    "trusted": true,
    "pycharm": {
     "name": "#%%\n"
    }
   },
   "execution_count": null,
   "outputs": []
  },
  {
   "cell_type": "code",
   "source": [
    "neg_wc = wc.generate(new_df[new_df['target']==-1]['converted_text'].str.cat(sep=\" \"))\n",
    "plt.imshow(neg_wc)\n",
    "plt.show()"
   ],
   "metadata": {
    "execution": {
     "iopub.status.busy": "2023-02-19T09:11:09.431293Z",
     "iopub.execute_input": "2023-02-19T09:11:09.43164Z",
     "iopub.status.idle": "2023-02-19T09:11:12.768863Z",
     "shell.execute_reply.started": "2023-02-19T09:11:09.43161Z",
     "shell.execute_reply": "2023-02-19T09:11:12.767556Z"
    },
    "trusted": true,
    "pycharm": {
     "name": "#%%\n"
    }
   },
   "execution_count": null,
   "outputs": []
  },
  {
   "cell_type": "markdown",
   "source": [
    "# 4. Model Building"
   ],
   "metadata": {
    "collapsed": false,
    "pycharm": {
     "name": "#%% md\n"
    }
   }
  },
  {
   "cell_type": "code",
   "source": [
    "from sklearn.feature_extraction.text import CountVectorizer, TfidfVectorizer\n",
    "cv = CountVectorizer(max_features = 3000)\n",
    "tfidf = TfidfVectorizer(max_features=5000)"
   ],
   "metadata": {
    "execution": {
     "iopub.status.busy": "2023-02-19T09:11:12.770266Z",
     "iopub.execute_input": "2023-02-19T09:11:12.770629Z",
     "iopub.status.idle": "2023-02-19T09:11:12.777369Z",
     "shell.execute_reply.started": "2023-02-19T09:11:12.770595Z",
     "shell.execute_reply": "2023-02-19T09:11:12.77607Z"
    },
    "trusted": true,
    "pycharm": {
     "name": "#%%\n"
    }
   },
   "execution_count": null,
   "outputs": []
  },
  {
   "cell_type": "code",
   "source": [
    "# X_cv = cv.fit_transform(new_df['converted_text']).toarray()\n",
    "X_tfid = tfidf.fit_transform(new_df['converted_text']).toarray()\n",
    "X = X_tfid"
   ],
   "metadata": {
    "execution": {
     "iopub.status.busy": "2023-02-19T09:11:12.779062Z",
     "iopub.execute_input": "2023-02-19T09:11:12.779396Z",
     "iopub.status.idle": "2023-02-19T09:11:14.675832Z",
     "shell.execute_reply.started": "2023-02-19T09:11:12.779367Z",
     "shell.execute_reply": "2023-02-19T09:11:14.674524Z"
    },
    "trusted": true,
    "pycharm": {
     "name": "#%%\n"
    }
   },
   "execution_count": null,
   "outputs": []
  },
  {
   "cell_type": "code",
   "source": [
    "X.shape"
   ],
   "metadata": {
    "execution": {
     "iopub.status.busy": "2023-02-19T09:11:14.678306Z",
     "iopub.execute_input": "2023-02-19T09:11:14.678653Z",
     "iopub.status.idle": "2023-02-19T09:11:14.685738Z",
     "shell.execute_reply.started": "2023-02-19T09:11:14.678622Z",
     "shell.execute_reply": "2023-02-19T09:11:14.684574Z"
    },
    "trusted": true,
    "pycharm": {
     "name": "#%%\n"
    }
   },
   "execution_count": null,
   "outputs": []
  },
  {
   "cell_type": "code",
   "source": [
    "y = new_df['target'].values"
   ],
   "metadata": {
    "execution": {
     "iopub.status.busy": "2023-02-19T09:11:14.687432Z",
     "iopub.execute_input": "2023-02-19T09:11:14.687873Z",
     "iopub.status.idle": "2023-02-19T09:11:14.69735Z",
     "shell.execute_reply.started": "2023-02-19T09:11:14.687829Z",
     "shell.execute_reply": "2023-02-19T09:11:14.696398Z"
    },
    "trusted": true,
    "pycharm": {
     "name": "#%%\n"
    }
   },
   "execution_count": null,
   "outputs": []
  },
  {
   "cell_type": "code",
   "source": [
    "#y"
   ],
   "metadata": {
    "execution": {
     "iopub.status.busy": "2023-02-19T09:11:14.698874Z",
     "iopub.execute_input": "2023-02-19T09:11:14.699334Z",
     "iopub.status.idle": "2023-02-19T09:11:14.710889Z",
     "shell.execute_reply.started": "2023-02-19T09:11:14.69929Z",
     "shell.execute_reply": "2023-02-19T09:11:14.70966Z"
    },
    "trusted": true,
    "pycharm": {
     "name": "#%%\n"
    }
   },
   "execution_count": null,
   "outputs": []
  },
  {
   "cell_type": "code",
   "source": [
    "from sklearn.model_selection import train_test_split\n",
    "X_train, X_test, y_train, y_test = train_test_split(X,y,test_size = 0.2,random_state = 34)"
   ],
   "metadata": {
    "execution": {
     "iopub.status.busy": "2023-02-19T09:11:14.712174Z",
     "iopub.execute_input": "2023-02-19T09:11:14.71253Z",
     "iopub.status.idle": "2023-02-19T09:11:15.173419Z",
     "shell.execute_reply.started": "2023-02-19T09:11:14.7125Z",
     "shell.execute_reply": "2023-02-19T09:11:15.172253Z"
    },
    "trusted": true,
    "pycharm": {
     "name": "#%%\n"
    }
   },
   "execution_count": null,
   "outputs": []
  },
  {
   "cell_type": "code",
   "source": [
    "X_train.shape"
   ],
   "metadata": {
    "execution": {
     "iopub.status.busy": "2023-02-19T09:11:15.17532Z",
     "iopub.execute_input": "2023-02-19T09:11:15.175683Z",
     "iopub.status.idle": "2023-02-19T09:11:15.181999Z",
     "shell.execute_reply.started": "2023-02-19T09:11:15.17565Z",
     "shell.execute_reply": "2023-02-19T09:11:15.180954Z"
    },
    "trusted": true,
    "pycharm": {
     "name": "#%%\n"
    }
   },
   "execution_count": null,
   "outputs": []
  },
  {
   "cell_type": "code",
   "source": [
    "y_train.shape"
   ],
   "metadata": {
    "execution": {
     "iopub.status.busy": "2023-02-19T09:11:15.183315Z",
     "iopub.execute_input": "2023-02-19T09:11:15.183638Z",
     "iopub.status.idle": "2023-02-19T09:11:15.194745Z",
     "shell.execute_reply.started": "2023-02-19T09:11:15.183608Z",
     "shell.execute_reply": "2023-02-19T09:11:15.193628Z"
    },
    "trusted": true,
    "pycharm": {
     "name": "#%%\n"
    }
   },
   "execution_count": null,
   "outputs": []
  },
  {
   "cell_type": "code",
   "source": [
    "X_test.shape"
   ],
   "metadata": {
    "execution": {
     "iopub.status.busy": "2023-02-19T09:11:15.195849Z",
     "iopub.execute_input": "2023-02-19T09:11:15.196552Z",
     "iopub.status.idle": "2023-02-19T09:11:15.205605Z",
     "shell.execute_reply.started": "2023-02-19T09:11:15.196517Z",
     "shell.execute_reply": "2023-02-19T09:11:15.204562Z"
    },
    "trusted": true,
    "pycharm": {
     "name": "#%%\n"
    }
   },
   "execution_count": null,
   "outputs": []
  },
  {
   "cell_type": "code",
   "source": [
    "y_test.shape"
   ],
   "metadata": {
    "execution": {
     "iopub.status.busy": "2023-02-19T09:11:15.206727Z",
     "iopub.execute_input": "2023-02-19T09:11:15.207155Z",
     "iopub.status.idle": "2023-02-19T09:11:15.217465Z",
     "shell.execute_reply.started": "2023-02-19T09:11:15.207114Z",
     "shell.execute_reply": "2023-02-19T09:11:15.216577Z"
    },
    "trusted": true,
    "pycharm": {
     "name": "#%%\n"
    }
   },
   "execution_count": null,
   "outputs": []
  },
  {
   "cell_type": "code",
   "source": [
    "from sklearn.naive_bayes import GaussianNB, MultinomialNB, BernoulliNB\n",
    "from sklearn import tree\n",
    "from sklearn.linear_model import SGDClassifier\n",
    "from sklearn.metrics import accuracy_score, precision_score, confusion_matrix, f1_score, recall_score\n"
   ],
   "metadata": {
    "execution": {
     "iopub.status.busy": "2023-02-19T09:11:15.219031Z",
     "iopub.execute_input": "2023-02-19T09:11:15.220199Z",
     "iopub.status.idle": "2023-02-19T09:11:15.228684Z",
     "shell.execute_reply.started": "2023-02-19T09:11:15.220155Z",
     "shell.execute_reply": "2023-02-19T09:11:15.227857Z"
    },
    "trusted": true,
    "pycharm": {
     "name": "#%%\n"
    }
   },
   "execution_count": null,
   "outputs": []
  },
  {
   "cell_type": "code",
   "source": [
    "# gnb = GaussianNB()\n",
    "mnb = MultinomialNB()\n",
    "bnb = BernoulliNB()\n",
    "tree = tree.DecisionTreeClassifier()\n",
    "sgd = SGDClassifier(loss=\"modified_huber\")"
   ],
   "metadata": {
    "execution": {
     "iopub.status.busy": "2023-02-19T09:11:15.2304Z",
     "iopub.execute_input": "2023-02-19T09:11:15.231664Z",
     "iopub.status.idle": "2023-02-19T09:11:15.237224Z",
     "shell.execute_reply.started": "2023-02-19T09:11:15.23161Z",
     "shell.execute_reply": "2023-02-19T09:11:15.236416Z"
    },
    "trusted": true,
    "pycharm": {
     "name": "#%%\n"
    }
   },
   "execution_count": null,
   "outputs": []
  },
  {
   "cell_type": "code",
   "source": [
    "#Training the 5 defined models\n",
    "\n",
    "# gnb.fit(X_train,y_train)\n",
    "# print(\"Gaussian Naive Bayes fitted.\")\n",
    "mnb.fit(X_train,y_train)\n",
    "print(\"Multinomial Naive Bayes fitted.\")\n",
    "bnb.fit(X_train,y_train)\n",
    "print(\"Bernoulli Naive Bayes fitted.\")\n",
    "# tree.fit(X_train, y_train)\n",
    "print(\"Decisions tree fitted.\")\n",
    "sgd.fit(X_train, y_train)\n",
    "print(\"Stochastic Gradient Descent fitted.\")"
   ],
   "metadata": {
    "execution": {
     "iopub.status.busy": "2023-02-19T09:11:15.23858Z",
     "iopub.execute_input": "2023-02-19T09:11:15.239038Z",
     "iopub.status.idle": "2023-02-19T09:11:17.15279Z",
     "shell.execute_reply.started": "2023-02-19T09:11:15.238996Z",
     "shell.execute_reply": "2023-02-19T09:11:17.151659Z"
    },
    "trusted": true,
    "pycharm": {
     "name": "#%%\n"
    }
   },
   "execution_count": null,
   "outputs": []
  },
  {
   "cell_type": "code",
   "execution_count": null,
   "outputs": [],
   "source": [
    "stats = {}\n",
    "def add_stats(algorithm, test, pred):\n",
    "    stats[algorithm] = {\n",
    "                        \"F1 %\" : round(f1_score(test,pred)*100,2),\n",
    "                        \"Precision %\" : round(precision_score(test,pred)*100,2),\n",
    "                        \"Recall %\" : round(recall_score(test,pred)*100,2),\n",
    "                        \"Accuracy %\" : round(accuracy_score(test, pred)*100,2),\n",
    "                        # \"Confusion Matrix\" : confusion_matrix(test,pred)\n",
    "                        }"
   ],
   "metadata": {
    "collapsed": false,
    "pycharm": {
     "name": "#%%\n"
    }
   }
  },
  {
   "cell_type": "code",
   "execution_count": null,
   "outputs": [],
   "source": [
    "#Predictions and adding stats to the dictionary.\n",
    "# y_pred1 = gnb.predict(X_test)\n",
    "# add_stats(\"Gaussian Native Bayes\", y_pred1, y_test)\n",
    "\n",
    "y_pred2 = mnb.predict(X_test)\n",
    "add_stats(\"Multinomial Native Bayes\", y_pred2, y_test)\n",
    "\n",
    "y_pred3 = bnb.predict(X_test)\n",
    "add_stats(\"Bernoulli Native Bayes\", y_pred3, y_test)\n",
    "\n",
    "# y_pred4 = tree.predict(X_test)\n",
    "# add_stats(\"Decisions Tree\", y_pred4, y_test)\n",
    "\n",
    "y_pred5 = sgd.predict(X_test)\n",
    "add_stats(\"Stochastic Gradient Descent\", y_pred5, y_test)\n",
    "\n",
    "#Building table\n",
    "df_stats = pd.DataFrame.from_dict(stats, orient='index')\n",
    "df_stats = df_stats.sort_values(by=\"F1 %\", ascending=False)\n",
    "fig, ax = plt.subplots(figsize=(8, 4))\n",
    "\n",
    "# Hide axes\n",
    "ax.xaxis.set_visible(False)\n",
    "ax.yaxis.set_visible(False)\n",
    "\n",
    "# Hide axes' labels\n",
    "ax.set_frame_on(False)\n",
    "ax.table(cellText=df_stats.values, colLabels=df_stats.columns, rowLabels=df_stats.index, loc='center')\n",
    "\n",
    "plt.show()"
   ],
   "metadata": {
    "collapsed": false,
    "pycharm": {
     "name": "#%%\n"
    }
   }
  },
  {
   "cell_type": "code",
   "execution_count": null,
   "outputs": [],
   "source": [
    "import math\n",
    "def execute_sentiment_analysis(text, sa_algorithm):\n",
    "    if text is None or text == \"\" or (math.isnan(text) if type(text) == float else False):\n",
    "        return 0\n",
    "    test = convert_text(text)\n",
    "    X = tfidf.transform([test])\n",
    "    return sa_algorithm.predict(X)[0] * max(sa_algorithm.predict_proba(X)[0])"
   ],
   "metadata": {
    "collapsed": false,
    "pycharm": {
     "name": "#%%\n"
    }
   }
  },
  {
   "cell_type": "code",
   "execution_count": null,
   "outputs": [],
   "source": [
    "print(execute_sentiment_analysis('game is a waste of time', sgd))\n",
    "print(execute_sentiment_analysis('I really loved this game', sgd))\n",
    "print(execute_sentiment_analysis('', sgd))"
   ],
   "metadata": {
    "collapsed": false,
    "pycharm": {
     "name": "#%%\n"
    }
   }
  },
  {
   "cell_type": "code",
   "execution_count": null,
   "outputs": [],
   "source": [
    "#benchmark the algorithms\n",
    "reviews = [\n",
    "    [\"Imagine waiting for an hour and ten minutes and still not being able to get into a private game.\",-1],\n",
    "    [\"I have been playing this game fairly consistently for the past 8 or so years. I also lead an in-game Fleet (Guild) that has had a constant player base that has grown and shrunk over time with sometimes hundreds of people. In other words, I truly love this game and almost always have enjoyed playing it. Which makes what I'm about to say very hard.Over these years the game has steadily become one of the most greediest, dirtiest cash grabs in the current Free-to-Play MMO market. It takes literal months to grind (and I mean GRIND) for a free, premium ship. Even other free ships, like the summer/winter event ones, still require weeks of grinding - and it NEVER changes. They don't change these events, so every year it's the same activities. which becomes extremely dull extremely fast.Not to mention EVERYTHING else in the game requires a purchase. Uniforms, lockbox keys, bridge officers, playable factions, inventory slots, bank slots, ship slots, duty officers, shuttles, equipment upgrades, etc. While some fans may attack me and say that not ALL of these items are only attainable through real money purchases, it is MUCH easier to buy them than to grind for them.Another in-game currency, Dilithium, has had a very small cap that has never changed for countless years. This currency allows you to upgrade your gear, support your Fleet, buy special equipment you unlock through Reputations (which, of course, require a little bit of grinding, but not nearly as bad as the previously mentioned gripes) and other useful items. The cap is insultingly low, and once again, some fans may say 'well, you can refine a little extra from your Fleet mine!' or 'If you're a lifetime member, you can refine an extra 1,000 every few days'. Of course, lifetime subscriptions cost $200-$300, assuming they're on sale. Obviously a small price to pay for a little extra dilithium that can only be initiated through a certain mission on a certain planet.This is only scratching the surface of this game's issues. A lot of the older missions have loads of bugs and are simply outdated (think Nimbus), some of the newer ones have some too, the engine has been out of date for years and they show no sign of upgrading it, and there's just so many bugs sometimes. I can recall when expansions would drop and certain missions or activities would literally cause your game to crash. I understand some of these times bugs will happen, but Cryptic never seems to truly test their new content.I am truly saddened and sickened by how awful the monetisation methods have become in this game. Like I said, I still do love this game, but I don't recommend new players to try it right now. I PRAY that they will eventually realize the insanity behind their practices and actually put some love and effort into this game, but until they do, you're better off playing older Star Trek games like Armada. \",-1],\n",
    "    [\"The demo ran flawlessly on Linux via Proton. After release, Denuvo absolutely destroys performance. Micro-stutters abound, the death of a game in this genre. On windows, there are fewer stutters, so it's a bit more playable, but they are still present at times. This game looks like a masterpiece, shame it can't be played normally. \",-1],\n",
    "    [\"I COULDNT GO DOWN THE SLIDE! THIS GAME SUCKED DONKEY BALLS!\",-1],\n",
    "    [\"I should have refunded this a bit sooner. \",-1],\n",
    "    [\"It's a good game ruined by jank and the boring loot mechanics. Also no music??. \",-1],\n",
    "    [\"they like turned a sick ass tactics mmo into a crappy mobile game, it's insane\",-1],\n",
    "    [\"Server issues aside, Game is solid 8/10\",1],\n",
    "    [\"To sum up this game in a way only players will understand: This game has a unique ability to make you think about your next play through while you're still playing your current one.\",1],\n",
    "    [\"Don't play if you enjoy remembering to eat or drink, remembering there is an outside or having free time. Other than that amazing game that can keep you entertained for hours on end\",1],\n",
    "    [\"Don't spend real money on this. You can easily get to rank 5 by playing nothing but story missions, get some fanservice, fly the Enterprise-E around, do all the things you really want to do as a Star Trek fan, all within a few dozen hours. If, at the end of that journey, you find that you enjoy MMORPGS, then knock yourself out. But if you're a non-MMO-player like me who just really loves the Star Trek franchise, free-to-play is the way to go. \",1],\n",
    "    [\"Phenomenal. The combat is excellent and the level design is on point. This is a soulsborne where the developers did their homework. \",1],\n",
    "    [\"The game is filled with bugs but I'm still recommending it because I got to witness my friends getting scared to death which was a really pleasant experience.\",1],\n",
    "    [\"some ♥♥♥♥ called me the n word so I nuked the whole map. i love this game\",1],\n",
    "    [\"this is cheaper then drugs and more addictive but with somehow the same damaging potential to your social life but with non of the long lasting effects and with better story telling highly recommend\",1],\n",
    "    [\"You must run to collect more pesos\",1]\n",
    "    ]\n",
    "\n",
    "sent_analysis_algs = [\n",
    "    [mnb, 'MultinomialNB'],\n",
    "    # [gnb, 'GaussianNB'],\n",
    "    [bnb, 'BernoulliNB'],\n",
    "    [tree, 'tree'],\n",
    "    [sgd, 'SGD']]\n",
    "\n",
    "benchmark = {}\n",
    "for alg, name in sent_analysis_algs:\n",
    "    benchmark[name] = [0, []]\n",
    "    for rev, expected_res in reviews:\n",
    "        res = execute_sentiment_analysis(rev, alg)\n",
    "        if res == expected_res:\n",
    "            benchmark[name][0] +=1\n",
    "        else:\n",
    "            benchmark[name][1].append(rev)\n",
    "benchmark"
   ],
   "metadata": {
    "collapsed": false,
    "pycharm": {
     "name": "#%%\n"
    }
   }
  },
  {
   "cell_type": "markdown",
   "source": [
    "# 5.Saving the models\n"
   ],
   "metadata": {
    "collapsed": false,
    "pycharm": {
     "name": "#%% md\n"
    }
   }
  },
  {
   "cell_type": "code",
   "execution_count": null,
   "outputs": [],
   "source": [
    "from joblib import dump\n",
    "# TODO add the text indicization (tf_idf, cv)\n",
    "# dump(mnb, 'MultinomialNB.joblib')\n",
    "# # dump(gnb, 'GaussianNB.joblib')\n",
    "# dump(bnb, 'BernoulliNB.joblib')\n",
    "# dump(tree, 'tree.joblib')\n",
    "# dump(sgd, 'SGD.joblib')"
   ],
   "metadata": {
    "collapsed": false,
    "pycharm": {
     "name": "#%%\n"
    }
   }
  },
  {
   "cell_type": "markdown",
   "source": [
    "# 6.Loading the models"
   ],
   "metadata": {
    "collapsed": false,
    "pycharm": {
     "name": "#%% md\n"
    }
   }
  },
  {
   "cell_type": "code",
   "execution_count": null,
   "outputs": [],
   "source": [
    "from joblib import load\n",
    "# TODO add the text indicization (tf_idf, cv)\n",
    "# mnb = load('MultinomialNB.joblib')\n",
    "# # gnb = load('GaussianNB.joblib')\n",
    "# bnb = load('BernoulliNB.joblib')\n",
    "# tree = load('tree.joblib')\n",
    "# sgd = load('SGD.joblib')"
   ],
   "metadata": {
    "collapsed": false,
    "pycharm": {
     "name": "#%%\n"
    }
   }
  },
  {
   "cell_type": "markdown",
   "source": [
    "# 7.Extract the text from the review"
   ],
   "metadata": {
    "collapsed": false,
    "pycharm": {
     "name": "#%% md\n"
    }
   }
  },
  {
   "cell_type": "code",
   "execution_count": null,
   "outputs": [],
   "source": [
    "all_ids = set(revs_og['app_id'])\n",
    "all_ids"
   ],
   "metadata": {
    "collapsed": false,
    "pycharm": {
     "name": "#%%\n"
    }
   }
  },
  {
   "cell_type": "code",
   "execution_count": null,
   "outputs": [],
   "source": [
    "keys = {'app_id', 'app_name'}\n",
    "all_games = {key: revs_og[key] for key in keys}"
   ],
   "metadata": {
    "collapsed": false,
    "pycharm": {
     "name": "#%%\n"
    }
   }
  },
  {
   "cell_type": "code",
   "execution_count": null,
   "outputs": [],
   "source": [
    "text_extracted = revs_og.groupby('app_id')['review_text'].apply(list)"
   ],
   "metadata": {
    "collapsed": false,
    "pycharm": {
     "name": "#%%\n"
    }
   }
  },
  {
   "cell_type": "code",
   "execution_count": null,
   "outputs": [],
   "source": [
    "text_extracted.describe()"
   ],
   "metadata": {
    "collapsed": false,
    "pycharm": {
     "name": "#%%\n"
    }
   }
  },
  {
   "cell_type": "markdown",
   "source": [
    "# 8.Load game categories"
   ],
   "metadata": {
    "collapsed": false,
    "pycharm": {
     "name": "#%% md\n"
    }
   }
  },
  {
   "cell_type": "code",
   "execution_count": 165,
   "outputs": [
    {
     "data": {
      "text/plain": "   game_id                                         categories\n0       10  [Action, FPS, Multiplayer, Shooter, Classic, T...\n1     1002  [2D Fighter, Martial Arts, Intentionally Awkwa...\n2   100400                   [Animation & Modeling, Software]\n3    10090  [Zombies, World War II, FPS, Multiplayer, Acti...\n4   100980  [Animation & Modeling, Utilities, Design & Ill...",
      "text/html": "<div>\n<style scoped>\n    .dataframe tbody tr th:only-of-type {\n        vertical-align: middle;\n    }\n\n    .dataframe tbody tr th {\n        vertical-align: top;\n    }\n\n    .dataframe thead th {\n        text-align: right;\n    }\n</style>\n<table border=\"1\" class=\"dataframe\">\n  <thead>\n    <tr style=\"text-align: right;\">\n      <th></th>\n      <th>game_id</th>\n      <th>categories</th>\n    </tr>\n  </thead>\n  <tbody>\n    <tr>\n      <th>0</th>\n      <td>10</td>\n      <td>[Action, FPS, Multiplayer, Shooter, Classic, T...</td>\n    </tr>\n    <tr>\n      <th>1</th>\n      <td>1002</td>\n      <td>[2D Fighter, Martial Arts, Intentionally Awkwa...</td>\n    </tr>\n    <tr>\n      <th>2</th>\n      <td>100400</td>\n      <td>[Animation &amp; Modeling, Software]</td>\n    </tr>\n    <tr>\n      <th>3</th>\n      <td>10090</td>\n      <td>[Zombies, World War II, FPS, Multiplayer, Acti...</td>\n    </tr>\n    <tr>\n      <th>4</th>\n      <td>100980</td>\n      <td>[Animation &amp; Modeling, Utilities, Design &amp; Ill...</td>\n    </tr>\n  </tbody>\n</table>\n</div>"
     },
     "execution_count": 165,
     "metadata": {},
     "output_type": "execute_result"
    }
   ],
   "source": [
    "#loading game categories\n",
    "\n",
    "gameid_categories_transported = pd.read_csv('games_tags.csv')\n",
    "\n",
    "# Reset the index to have a numeric index\n",
    "gameid_categories_transported.reset_index(drop=True, inplace=True)\n",
    "\n",
    "# Melt the DataFrame to convert it back to the original format\n",
    "game_categories = gameid_categories_transported.melt(var_name=\"game_id\", value_name=\"categories\")\n",
    "\n",
    "# Drop rows with NaN values (optional, if you want to remove them)\n",
    "game_categories = game_categories.dropna()\n",
    "\n",
    "# Group by game_id and aggregate categories into a list\n",
    "game_categories = game_categories.groupby('game_id')['categories'].agg(list).reset_index()\n",
    "game_categories['game_id'] = game_categories['game_id'].astype('int64')\n",
    "\n",
    "# Reset the index of the melted DataFrame\n",
    "game_categories.reset_index(drop=True, inplace=True)\n",
    "\n",
    "# Display the resulting DataFrame\n",
    "game_categories.head()"
   ],
   "metadata": {
    "collapsed": false,
    "pycharm": {
     "name": "#%%\n"
    }
   }
  },
  {
   "cell_type": "markdown",
   "source": [
    "# 9.Load the previous analysis done to calculate the total scores."
   ],
   "metadata": {
    "collapsed": false,
    "pycharm": {
     "name": "#%% md\n"
    }
   }
  },
  {
   "cell_type": "code",
   "execution_count": 166,
   "outputs": [
    {
     "data": {
      "text/plain": "   game_id         score\n0       10  21169.215589\n1       20   2278.877286\n2       30   1707.040703\n3       40    680.946681\n4       50   3060.880613",
      "text/html": "<div>\n<style scoped>\n    .dataframe tbody tr th:only-of-type {\n        vertical-align: middle;\n    }\n\n    .dataframe tbody tr th {\n        vertical-align: top;\n    }\n\n    .dataframe thead th {\n        text-align: right;\n    }\n</style>\n<table border=\"1\" class=\"dataframe\">\n  <thead>\n    <tr style=\"text-align: right;\">\n      <th></th>\n      <th>game_id</th>\n      <th>score</th>\n    </tr>\n  </thead>\n  <tbody>\n    <tr>\n      <th>0</th>\n      <td>10</td>\n      <td>21169.215589</td>\n    </tr>\n    <tr>\n      <th>1</th>\n      <td>20</td>\n      <td>2278.877286</td>\n    </tr>\n    <tr>\n      <th>2</th>\n      <td>30</td>\n      <td>1707.040703</td>\n    </tr>\n    <tr>\n      <th>3</th>\n      <td>40</td>\n      <td>680.946681</td>\n    </tr>\n    <tr>\n      <th>4</th>\n      <td>50</td>\n      <td>3060.880613</td>\n    </tr>\n  </tbody>\n</table>\n</div>"
     },
     "execution_count": 166,
     "metadata": {},
     "output_type": "execute_result"
    }
   ],
   "source": [
    "game_scores = pd.read_csv(\"games_score.csv\")\n",
    "game_scores.head()"
   ],
   "metadata": {
    "collapsed": false,
    "pycharm": {
     "name": "#%%\n"
    }
   }
  },
  {
   "cell_type": "markdown",
   "source": [
    "# 10.Load the user's gaming behaviour"
   ],
   "metadata": {
    "collapsed": false,
    "pycharm": {
     "name": "#%% md\n"
    }
   }
  },
  {
   "cell_type": "markdown",
   "source": [
    "## 10.1 Loading the steam api key"
   ],
   "metadata": {
    "collapsed": false,
    "pycharm": {
     "name": "#%% md\n"
    }
   }
  },
  {
   "cell_type": "code",
   "execution_count": 167,
   "outputs": [
    {
     "name": "stdout",
     "output_type": "stream",
     "text": [
      "Steam API Key found\n"
     ]
    }
   ],
   "source": [
    " # Get the stored api key\n",
    "file_path = 'api_key.txt'\n",
    "\n",
    "try:\n",
    "    # Open the file in read mode\n",
    "    with open(file_path, 'r') as file:\n",
    "        # Read the API key from the file\n",
    "        api_key = file.read().strip()\n",
    "        print(f\"Steam API Key found\")\n",
    "except FileNotFoundError:\n",
    "    print(f\"Api file '{file_path}' not found.\")\n"
   ],
   "metadata": {
    "collapsed": false,
    "pycharm": {
     "name": "#%%\n"
    }
   }
  },
  {
   "cell_type": "markdown",
   "source": [
    "## 10.2 Requesting the user's total playtime on videogames"
   ],
   "metadata": {
    "collapsed": false,
    "pycharm": {
     "name": "#%% md\n"
    }
   }
  },
  {
   "cell_type": "code",
   "execution_count": 168,
   "outputs": [
    {
     "name": "stdout",
     "output_type": "stream",
     "text": [
      "Success\n",
      "Something went wrong:  200 {\"response\":{}}\n",
      "Something went wrong:  200 {\"response\":{}}\n",
      "Success\n",
      "Success\n",
      "Success\n",
      "Success\n",
      "Success\n",
      "Success\n",
      "Success\n",
      "Success\n",
      "Success\n",
      "Success\n",
      "Success\n",
      "Success\n",
      "Success\n"
     ]
    }
   ],
   "source": [
    "import requests\n",
    "steam_user_ids = [76561198055831348, 76561198378195772, 76561198051361780, 76561198252171946, 76561198048420079, 76561198448640683, 76561198092311292, 76561199418749721, 76561199483351680, 76561199482701362, 76561199418605621, 76561198071705583, 76561198331830889, 76561199157185623, 76561198213180295, 76561199076757859]\n",
    "users_playtime = pd.DataFrame()\n",
    "counter = 0\n",
    "for s in steam_user_ids:\n",
    "    get_owned_games_url = \"http://api.steampowered.com/IPlayerService/GetOwnedGames/v0001/?key={}&steamid={}&format=json&include_played_free_games\".format(api_key, s)\n",
    "    response = requests.get(get_owned_games_url)\n",
    "    if response.status_code == 200 and response.json().get(\"response\").__len__() != 0:\n",
    "        response = response.json()\n",
    "        games_list = response[\"response\"][\"games\"]\n",
    "        appid_playtime_dict = {game[\"appid\"]: game[\"playtime_forever\"] for game in games_list}\n",
    "        user_playtime = pd.DataFrame.from_dict(appid_playtime_dict, orient='index')\n",
    "        user_playtime.reset_index(inplace=True)\n",
    "        user_playtime.columns = ['game_id', 'playtime_forever']\n",
    "        user_playtime['user_id'] = counter\n",
    "        counter += 1\n",
    "        users_playtime = pd.concat([users_playtime, user_playtime], ignore_index=True)\n",
    "        print(\"Success\")\n",
    "    else:\n",
    "        print(\"Something went wrong: \",response.status_code,response.text)"
   ],
   "metadata": {
    "collapsed": false,
    "pycharm": {
     "name": "#%%\n"
    }
   }
  },
  {
   "cell_type": "code",
   "execution_count": 169,
   "outputs": [
    {
     "data": {
      "text/plain": "   game_id  user_id  playtime_forever\n0     2100        0               531\n1     2130        0                 0\n2     4000        0              1747\n3    12900        0               904\n4    19900        0               156",
      "text/html": "<div>\n<style scoped>\n    .dataframe tbody tr th:only-of-type {\n        vertical-align: middle;\n    }\n\n    .dataframe tbody tr th {\n        vertical-align: top;\n    }\n\n    .dataframe thead th {\n        text-align: right;\n    }\n</style>\n<table border=\"1\" class=\"dataframe\">\n  <thead>\n    <tr style=\"text-align: right;\">\n      <th></th>\n      <th>game_id</th>\n      <th>user_id</th>\n      <th>playtime_forever</th>\n    </tr>\n  </thead>\n  <tbody>\n    <tr>\n      <th>0</th>\n      <td>2100</td>\n      <td>0</td>\n      <td>531</td>\n    </tr>\n    <tr>\n      <th>1</th>\n      <td>2130</td>\n      <td>0</td>\n      <td>0</td>\n    </tr>\n    <tr>\n      <th>2</th>\n      <td>4000</td>\n      <td>0</td>\n      <td>1747</td>\n    </tr>\n    <tr>\n      <th>3</th>\n      <td>12900</td>\n      <td>0</td>\n      <td>904</td>\n    </tr>\n    <tr>\n      <th>4</th>\n      <td>19900</td>\n      <td>0</td>\n      <td>156</td>\n    </tr>\n  </tbody>\n</table>\n</div>"
     },
     "execution_count": 169,
     "metadata": {},
     "output_type": "execute_result"
    }
   ],
   "source": [
    "users_playtime = users_playtime[['game_id','user_id','playtime_forever']]\n",
    "users_playtime.head()"
   ],
   "metadata": {
    "collapsed": false,
    "pycharm": {
     "name": "#%%\n"
    }
   }
  },
  {
   "cell_type": "markdown",
   "source": [
    "## Recommender system"
   ],
   "metadata": {
    "collapsed": false,
    "pycharm": {
     "name": "#%% md\n"
    }
   }
  },
  {
   "cell_type": "markdown",
   "source": [
    "## Games score normalizer"
   ],
   "metadata": {
    "collapsed": false,
    "pycharm": {
     "name": "#%% md\n"
    }
   }
  },
  {
   "cell_type": "code",
   "execution_count": 170,
   "outputs": [
    {
     "name": "stdout",
     "output_type": "stream",
     "text": [
      "   game_id         score  occurrence  normalized_score\n",
      "0       10  21169.215589       12353          8.565681\n",
      "1       20   2278.877286        1542          7.370433\n",
      "2       30   1707.040703        1030          8.255037\n",
      "3       40    680.946681         457          7.387707\n",
      "4       50   3060.880613        1743          8.760573\n"
     ]
    }
   ],
   "source": [
    "#Preparing dataset based on the sentiment_analysis that contains: user_id, item_id, score, normalized_score\n",
    "new_game_scores = game_scores.copy()\n",
    "game_id_counts = revs_og['app_id'].value_counts().reset_index()\n",
    "game_id_counts.columns = ['app_id', 'occurrence']\n",
    "game_id_counts.rename(columns={'app_id': 'game_id'}, inplace=True)\n",
    "\n",
    "new_game_scores_normalized = pd.merge(new_game_scores, game_id_counts, on ='game_id', how='left')\n",
    "\n",
    "#Sweet spot\n",
    "k = 20\n",
    "\n",
    "new_game_scores_normalized['normalized_score'] = (new_game_scores_normalized['score'] / new_game_scores_normalized['occurrence']) * (0.8 + 0.2 * (new_game_scores_normalized['occurrence'] / (new_game_scores_normalized['occurrence'] + k))) / 2 * 10\n",
    "\n",
    "print(new_game_scores_normalized.head())"
   ],
   "metadata": {
    "collapsed": false,
    "pycharm": {
     "name": "#%%\n"
    }
   }
  },
  {
   "cell_type": "code",
   "execution_count": 171,
   "outputs": [
    {
     "data": {
      "text/plain": "   game_id                                         categories\n0       10  [Action, FPS, Multiplayer, Shooter, Classic, T...\n1     1002  [2D Fighter, Martial Arts, Intentionally Awkwa...\n2   100400                   [Animation & Modeling, Software]\n3    10090  [Zombies, World War II, FPS, Multiplayer, Acti...\n4   100980  [Animation & Modeling, Utilities, Design & Ill...",
      "text/html": "<div>\n<style scoped>\n    .dataframe tbody tr th:only-of-type {\n        vertical-align: middle;\n    }\n\n    .dataframe tbody tr th {\n        vertical-align: top;\n    }\n\n    .dataframe thead th {\n        text-align: right;\n    }\n</style>\n<table border=\"1\" class=\"dataframe\">\n  <thead>\n    <tr style=\"text-align: right;\">\n      <th></th>\n      <th>game_id</th>\n      <th>categories</th>\n    </tr>\n  </thead>\n  <tbody>\n    <tr>\n      <th>0</th>\n      <td>10</td>\n      <td>[Action, FPS, Multiplayer, Shooter, Classic, T...</td>\n    </tr>\n    <tr>\n      <th>1</th>\n      <td>1002</td>\n      <td>[2D Fighter, Martial Arts, Intentionally Awkwa...</td>\n    </tr>\n    <tr>\n      <th>2</th>\n      <td>100400</td>\n      <td>[Animation &amp; Modeling, Software]</td>\n    </tr>\n    <tr>\n      <th>3</th>\n      <td>10090</td>\n      <td>[Zombies, World War II, FPS, Multiplayer, Acti...</td>\n    </tr>\n    <tr>\n      <th>4</th>\n      <td>100980</td>\n      <td>[Animation &amp; Modeling, Utilities, Design &amp; Ill...</td>\n    </tr>\n  </tbody>\n</table>\n</div>"
     },
     "execution_count": 171,
     "metadata": {},
     "output_type": "execute_result"
    }
   ],
   "source": [
    "#Preparing feature dataset, starting by copying the game_categories dataframe\n",
    "new_game_categories = game_categories.copy()\n",
    "new_game_categories.head()"
   ],
   "metadata": {
    "collapsed": false,
    "pycharm": {
     "name": "#%%\n"
    }
   }
  },
  {
   "cell_type": "code",
   "execution_count": 172,
   "outputs": [
    {
     "data": {
      "text/plain": "   game_id  normalized_score  \\\n0       10          8.565681   \n1       20          7.370433   \n2       30          8.255037   \n3       40          7.387707   \n4       50          8.760573   \n\n                                          categories  occurrence         score  \n0  [Action, FPS, Multiplayer, Shooter, Classic, T...       12353  21169.215589  \n1  [Action, FPS, Multiplayer, Classic, Hero Shoot...        1542   2278.877286  \n2  [FPS, World War II, Multiplayer, Shooter, Acti...        1030   1707.040703  \n3  [Action, FPS, Classic, Multiplayer, Shooter, F...         457    680.946681  \n4  [FPS, Action, Classic, Sci-fi, Singleplayer, S...        1743   3060.880613  ",
      "text/html": "<div>\n<style scoped>\n    .dataframe tbody tr th:only-of-type {\n        vertical-align: middle;\n    }\n\n    .dataframe tbody tr th {\n        vertical-align: top;\n    }\n\n    .dataframe thead th {\n        text-align: right;\n    }\n</style>\n<table border=\"1\" class=\"dataframe\">\n  <thead>\n    <tr style=\"text-align: right;\">\n      <th></th>\n      <th>game_id</th>\n      <th>normalized_score</th>\n      <th>categories</th>\n      <th>occurrence</th>\n      <th>score</th>\n    </tr>\n  </thead>\n  <tbody>\n    <tr>\n      <th>0</th>\n      <td>10</td>\n      <td>8.565681</td>\n      <td>[Action, FPS, Multiplayer, Shooter, Classic, T...</td>\n      <td>12353</td>\n      <td>21169.215589</td>\n    </tr>\n    <tr>\n      <th>1</th>\n      <td>20</td>\n      <td>7.370433</td>\n      <td>[Action, FPS, Multiplayer, Classic, Hero Shoot...</td>\n      <td>1542</td>\n      <td>2278.877286</td>\n    </tr>\n    <tr>\n      <th>2</th>\n      <td>30</td>\n      <td>8.255037</td>\n      <td>[FPS, World War II, Multiplayer, Shooter, Acti...</td>\n      <td>1030</td>\n      <td>1707.040703</td>\n    </tr>\n    <tr>\n      <th>3</th>\n      <td>40</td>\n      <td>7.387707</td>\n      <td>[Action, FPS, Classic, Multiplayer, Shooter, F...</td>\n      <td>457</td>\n      <td>680.946681</td>\n    </tr>\n    <tr>\n      <th>4</th>\n      <td>50</td>\n      <td>8.760573</td>\n      <td>[FPS, Action, Classic, Sci-fi, Singleplayer, S...</td>\n      <td>1743</td>\n      <td>3060.880613</td>\n    </tr>\n  </tbody>\n</table>\n</div>"
     },
     "execution_count": 172,
     "metadata": {},
     "output_type": "execute_result"
    }
   ],
   "source": [
    "#Merging the previous dataframes into one that has all the data that we've got for every game.\n",
    "game_df = pd.merge(new_game_scores_normalized, new_game_categories, on ='game_id', how='inner')\n",
    "game_df = game_df[['game_id','normalized_score','categories', 'occurrence', 'score']]\n",
    "game_df.head()"
   ],
   "metadata": {
    "collapsed": false,
    "pycharm": {
     "name": "#%%\n"
    }
   }
  },
  {
   "cell_type": "code",
   "execution_count": 173,
   "outputs": [
    {
     "name": "stdout",
     "output_type": "stream",
     "text": [
      "Num users: 14, num_items 9368.\n"
     ]
    }
   ],
   "source": [
    "# Building the recommender system dataset\n",
    "from lightfm.data import Dataset\n",
    "\n",
    "new_dataset = Dataset(user_identity_features=False)\n",
    "# Fitting the recommender system by giving every used_id and game_id in the datasets.\n",
    "new_dataset.fit(users_playtime['user_id'], game_df['game_id'])\n",
    "\n",
    "# Printing the shape of both the datasets\n",
    "num_users, num_items = new_dataset.interactions_shape()\n",
    "print('Num users: {}, num_items {}.'.format(num_users, num_items))"
   ],
   "metadata": {
    "collapsed": false,
    "pycharm": {
     "name": "#%%\n"
    }
   }
  },
  {
   "cell_type": "markdown",
   "source": [
    "## Building item features, without weights"
   ],
   "metadata": {
    "collapsed": false,
    "pycharm": {
     "name": "#%% md\n"
    }
   }
  },
  {
   "cell_type": "code",
   "execution_count": 174,
   "outputs": [
    {
     "name": "stdout",
     "output_type": "stream",
     "text": [
      "Starting item Partial fit\n",
      "Partial item fit done\n"
     ]
    }
   ],
   "source": [
    "# Partial fit of items with their own features (not using weights, because all the weights would be the same)\n",
    "\n",
    "print(\"Starting item Partial fit\")\n",
    "for _, row in game_df.iterrows():\n",
    "    game_id, _, categories, _, _ = row\n",
    "    new_dataset.fit_partial(items=[game_id], item_features=categories)\n",
    "print(\"Partial item fit done\")"
   ],
   "metadata": {
    "collapsed": false,
    "pycharm": {
     "name": "#%%\n"
    }
   }
  },
  {
   "cell_type": "markdown",
   "source": [
    "## Building User features with categories weight"
   ],
   "metadata": {
    "collapsed": false,
    "pycharm": {
     "name": "#%% md\n"
    }
   }
  },
  {
   "cell_type": "code",
   "execution_count": 175,
   "outputs": [
    {
     "data": {
      "text/plain": "   user_id    category  user_category_score\n0        0       1980s                   65\n1        0      1990's                 1272\n2        0        2.5D                  622\n3        0          2D                50344\n4        0  2D Fighter                 2372",
      "text/html": "<div>\n<style scoped>\n    .dataframe tbody tr th:only-of-type {\n        vertical-align: middle;\n    }\n\n    .dataframe tbody tr th {\n        vertical-align: top;\n    }\n\n    .dataframe thead th {\n        text-align: right;\n    }\n</style>\n<table border=\"1\" class=\"dataframe\">\n  <thead>\n    <tr style=\"text-align: right;\">\n      <th></th>\n      <th>user_id</th>\n      <th>category</th>\n      <th>user_category_score</th>\n    </tr>\n  </thead>\n  <tbody>\n    <tr>\n      <th>0</th>\n      <td>0</td>\n      <td>1980s</td>\n      <td>65</td>\n    </tr>\n    <tr>\n      <th>1</th>\n      <td>0</td>\n      <td>1990's</td>\n      <td>1272</td>\n    </tr>\n    <tr>\n      <th>2</th>\n      <td>0</td>\n      <td>2.5D</td>\n      <td>622</td>\n    </tr>\n    <tr>\n      <th>3</th>\n      <td>0</td>\n      <td>2D</td>\n      <td>50344</td>\n    </tr>\n    <tr>\n      <th>4</th>\n      <td>0</td>\n      <td>2D Fighter</td>\n      <td>2372</td>\n    </tr>\n  </tbody>\n</table>\n</div>"
     },
     "execution_count": 175,
     "metadata": {},
     "output_type": "execute_result"
    }
   ],
   "source": [
    "# Building the dataframe that correlates (user -> category score), to fit users with their own weights\n",
    "\n",
    "# Step 1: Join the users_playtime and game_categories df\n",
    "new_game_categories_user_score = pd.merge(new_game_categories, users_playtime, on=\"game_id\", how=\"right\")\n",
    "new_game_categories_user_score.head()\n",
    "\n",
    "# Step 2: Explode the \"categories\" column\n",
    "exploded_df = new_game_categories_user_score.explode(\"categories\")\n",
    "\n",
    "# Step 2: Group by \"user_id\" and \"categories\" and sum the \"score\"\n",
    "aggregated_df = exploded_df.groupby([\"user_id\", \"categories\"])[\"playtime_forever\"].sum().reset_index()\n",
    "\n",
    "# Step 3: Create a new DataFrame with the aggregated data\n",
    "user_category_score = aggregated_df.rename(columns={\"categories\": \"category\",\"playtime_forever\": \"user_category_score\"})\n",
    "\n",
    "# Display the new DataFrame\n",
    "user_category_score.head()"
   ],
   "metadata": {
    "collapsed": false,
    "pycharm": {
     "name": "#%%\n"
    }
   }
  },
  {
   "cell_type": "markdown",
   "source": [
    "## Partial fit user features with weights."
   ],
   "metadata": {
    "collapsed": false,
    "pycharm": {
     "name": "#%% md\n"
    }
   },
   "execution_count": 1
  },
  {
   "cell_type": "code",
   "execution_count": 176,
   "outputs": [
    {
     "name": "stdout",
     "output_type": "stream",
     "text": [
      "Starting user Partial fit\n",
      "Partial user fit done\n"
     ]
    }
   ],
   "source": [
    "# Partial fit of users with their own features (categories) and weights\n",
    "\n",
    "print(\"Starting user Partial fit\")\n",
    "for _, row in user_category_score.iterrows():\n",
    "    user_id, category, category_score= row\n",
    "    new_dataset.fit_partial(users=[user_id], user_features={category: category_score})\n",
    "print(\"Partial user fit done\")"
   ],
   "metadata": {
    "collapsed": false,
    "pycharm": {
     "name": "#%%\n"
    }
   }
  },
  {
   "cell_type": "code",
   "execution_count": 177,
   "outputs": [],
   "source": [
    "users_features = new_dataset.build_user_features(((x['user_id'], {x['category']: x['user_category_score']})for _,x in user_category_score.iterrows()))"
   ],
   "metadata": {
    "collapsed": false,
    "pycharm": {
     "name": "#%%\n"
    }
   }
  },
  {
   "cell_type": "code",
   "execution_count": 178,
   "outputs": [],
   "source": [
    "item_features = new_dataset.build_item_features(((x['game_id'], x['categories'])for _,x in game_df.iterrows()))"
   ],
   "metadata": {
    "collapsed": false,
    "pycharm": {
     "name": "#%%\n"
    }
   }
  },
  {
   "cell_type": "code",
   "execution_count": 179,
   "outputs": [
    {
     "name": "stdout",
     "output_type": "stream",
     "text": [
      "   game_id  user_id  playtime_forever  normalized_score         score\n",
      "0     2100        0               531          8.593249   2859.767550\n",
      "1     4000        0              1747          7.021904  39242.607207\n",
      "2     4000        9             32761          7.021904  39242.607207\n",
      "3     4000       11              1123          7.021904  39242.607207\n",
      "4     4000       12              7232          7.021904  39242.607207\n",
      "<14x9368 sparse matrix of type '<class 'numpy.int32'>'\n",
      "\twith 1484 stored elements in COOrdinate format>\n",
      "<14x9368 sparse matrix of type '<class 'numpy.float32'>'\n",
      "\twith 1484 stored elements in COOrdinate format>\n"
     ]
    }
   ],
   "source": [
    "# Clean interactions for games not in the list.\n",
    "merged_df = pd.merge(users_playtime, game_df[['game_id', 'normalized_score', 'score']], on='game_id', how='inner')\n",
    "\n",
    "print(merged_df.head())\n",
    "\n",
    "max_playtime = merged_df['playtime_forever'].max()\n",
    "\n",
    "# Building user -> videogames interaction dataset, using their playtime\n",
    "(interactions, weights) = new_dataset.build_interactions(((x['user_id'], x['game_id'], x['playtime_forever'])for _,x in merged_df.iterrows()))\n",
    "\n",
    "print(repr(interactions))\n",
    "print(repr(weights))"
   ],
   "metadata": {
    "collapsed": false,
    "pycharm": {
     "name": "#%%\n"
    }
   }
  },
  {
   "cell_type": "markdown",
   "source": [
    "# Train the model"
   ],
   "metadata": {
    "collapsed": false,
    "pycharm": {
     "name": "#%% md\n"
    }
   }
  },
  {
   "cell_type": "code",
   "execution_count": 180,
   "outputs": [
    {
     "name": "stderr",
     "output_type": "stream",
     "text": [
      "Epoch: 100%|██████████| 100/100 [00:09<00:00, 10.59it/s]"
     ]
    },
    {
     "name": "stdout",
     "output_type": "stream",
     "text": [
      "Training done\n"
     ]
    },
    {
     "name": "stderr",
     "output_type": "stream",
     "text": [
      "\n"
     ]
    }
   ],
   "source": [
    "from tqdm import tqdm\n",
    "from lightfm import LightFM\n",
    "new_model = LightFM()\n",
    "epoch_number = 100\n",
    "new_model.fit(interactions=interactions, sample_weight=weights, user_features=users_features,  item_features=item_features, epochs=epoch_number, verbose=True)\n",
    "print(\"Training done\")"
   ],
   "metadata": {
    "collapsed": false,
    "pycharm": {
     "name": "#%%\n"
    }
   }
  },
  {
   "cell_type": "code",
   "execution_count": 184,
   "outputs": [
    {
     "name": "stdout",
     "output_type": "stream",
     "text": [
      "Top Recommended Games:\n",
      "                            app_name  predicted_score  normalized_score\n",
      "0                           Aseprite         1.012455          9.162002\n",
      "1           The Witcher 3: Wild Hunt         0.962091          9.007140\n",
      "2     METAL GEAR RISING: REVENGEANCE         0.875963          9.382562\n",
      "3     Danganronpa 2: Goodbye Despair         0.869091          9.315718\n",
      "4   Danganronpa: Trigger Happy Havoc         0.558649          9.080543\n",
      "5      The Binding of Isaac: Rebirth         0.498337          9.147735\n",
      "6         Sid Meier's Civilization V         0.442620          9.442103\n",
      "7  Deus Ex: Game of the Year Edition         0.381200          9.130333\n",
      "8             Golf With Your Friends         0.369921          9.048828\n",
      "9   South Park™: The Stick of Truth™         0.362551          9.493941\n"
     ]
    }
   ],
   "source": [
    "# Step 3: Generate Recommendations\n",
    "\n",
    "# Compute predicted scores for all games\n",
    "user_id = 0  # This is a mock user since the system needs an int to predict the values for given users\n",
    "predicted_scores = new_model.predict(user_ids=user_id, item_ids=np.arange(len(game_scores)))\n",
    "\n",
    "# Exclude games the user has played or owns\n",
    "played_or_owned_games = users_playtime.index.tolist()\n",
    "\n",
    "# Recommend the top N games with the highest predicted scores\n",
    "top_n = 10\n",
    "top_game_indices = np.argsort(predicted_scores)[::-1]\n",
    "top_recommendations = game_df.loc[top_game_indices]\n",
    "top_recommendations['predicted_score'] = predicted_scores[top_game_indices]\n",
    "\n",
    "\n",
    "# Step 1: Get a list of game_ids for the target user_id in users_playtime\n",
    "user_game_ids = users_playtime[users_playtime['user_id'] == user_id]['game_id'].tolist()\n",
    "\n",
    "# Step 2: Remove rows from top_recommendations where game_id is associated with the target user_id in user_game_ids\n",
    "top_recommendations = top_recommendations[~top_recommendations['game_id'].isin(user_game_ids)]\n",
    "\n",
    "# Print the top recommended games\n",
    "# print(\"Top Recommended Games:\")\n",
    "# print(top_recommendations)\n",
    "# top_recommendations = top_recommendations[top_recommendations['score'] > 500]\n",
    "#\n",
    "# Assuming both DataFrames have a 'game_id' column\n",
    "merged_recommendations = pd.merge(top_recommendations, revs_og[['app_id', 'app_name']], left_on='game_id', right_on='app_id', how='left')\n",
    "\n",
    "# Drop the 'app_id' column as it's no longer needed\n",
    "merged_recommendations = merged_recommendations.drop_duplicates(subset='game_id')\n",
    "\n",
    "# Take only the game with a normalized score bigger than\n",
    "merged_recommendations = merged_recommendations[merged_recommendations['normalized_score'] > 9]\n",
    "\n",
    "# merged_recommendations = merged_recommendations.drop(columns=['app_id', 'game_id'])\n",
    "merged_recommendations = merged_recommendations[['app_name', 'predicted_score', 'normalized_score']]\n",
    "merged_recommendations = merged_recommendations.head(10)\n",
    "merged_recommendations.reset_index(drop = True, inplace = True)\n",
    "# Print the top recommended games with game names\n",
    "print(\"Top Recommended Games:\")\n",
    "print(merged_recommendations)"
   ],
   "metadata": {
    "collapsed": false,
    "pycharm": {
     "name": "#%%\n"
    }
   }
  }
 ]
}